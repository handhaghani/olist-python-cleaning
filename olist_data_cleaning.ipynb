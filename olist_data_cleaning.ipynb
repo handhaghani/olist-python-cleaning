{
 "cells": [
  {
   "cell_type": "code",
   "execution_count": 1,
   "id": "68b1fb9f",
   "metadata": {},
   "outputs": [],
   "source": [
    "import pandas as pd"
   ]
  },
  {
   "cell_type": "code",
   "execution_count": 9,
   "id": "d279795e",
   "metadata": {},
   "outputs": [],
   "source": [
    "import os"
   ]
  },
  {
   "cell_type": "code",
   "execution_count": 10,
   "id": "e4f9a872",
   "metadata": {},
   "outputs": [],
   "source": [
    "os.chdir(\"/Users/macbook/Desktop/Projects/Analytics/Brazilian Ecommerce\")"
   ]
  },
  {
   "cell_type": "code",
   "execution_count": 11,
   "id": "45dd81c2",
   "metadata": {},
   "outputs": [],
   "source": [
    "base_path = \"/Users/macbook/Desktop/Projects/Analytics/Brazilian Ecommerce\""
   ]
  },
  {
   "cell_type": "code",
   "execution_count": 12,
   "id": "8cf72af5",
   "metadata": {},
   "outputs": [],
   "source": [
    "# List of all dataset files\n",
    "files = {\n",
    "    \"categeory\": \"category_name_translation.csv\",\n",
    "    \"customers\": \"customers.csv\",\n",
    "    \"geolocation\": \"geolocation.csv\",\n",
    "    \"order_items\": \"order_items.csv\",\n",
    "    \"order_payments\": \"order_payments.csv\",\n",
    "    \"order_reviews\": \"order_reviews.csv\",\n",
    "    \"orders\": \"orders.csv\",\n",
    "    \"products\": \"products.csv\",\n",
    "    \"sellers\": \"sellers.csv\"\n",
    "}"
   ]
  },
  {
   "cell_type": "code",
   "execution_count": 13,
   "id": "d564d58c",
   "metadata": {},
   "outputs": [
    {
     "name": "stdout",
     "output_type": "stream",
     "text": [
      "categeory loaded: 71 rows, 2 columns\n",
      "customers loaded: 99441 rows, 5 columns\n",
      "geolocation loaded: 1000163 rows, 5 columns\n",
      "order_items loaded: 112650 rows, 7 columns\n",
      "order_payments loaded: 103886 rows, 5 columns\n",
      "order_reviews loaded: 99224 rows, 7 columns\n",
      "orders loaded: 99441 rows, 8 columns\n",
      "products loaded: 32951 rows, 9 columns\n",
      "sellers loaded: 3095 rows, 4 columns\n"
     ]
    }
   ],
   "source": [
    "# Load all datasets\n",
    "dfs = {}\n",
    "for name, filename in files.items():\n",
    "    path = os.path.join(base_path, filename)\n",
    "    try:\n",
    "        df = pd.read_csv(path, encoding='utf-8')\n",
    "        print(f\"{name} loaded: {df.shape[0]} rows, {df.shape[1]} columns\")\n",
    "        dfs[name] = df\n",
    "    except Exception as e:\n",
    "        print(f\"Error loading {filename}: {e}\")"
   ]
  },
  {
   "cell_type": "markdown",
   "id": "0d9ba791",
   "metadata": {},
   "source": [
    "## Cleaning the `orders` Dataset (1)\n",
    "\n",
    "Starting by cleaning `orders.csv` dataset first because I suspect it is the **central table** that connects to most of the other datasets in this project \n",
    "\n"
   ]
  },
  {
   "cell_type": "code",
   "execution_count": 17,
   "id": "bb4627bf",
   "metadata": {},
   "outputs": [],
   "source": [
    "orders = dfs['orders']"
   ]
  },
  {
   "cell_type": "code",
   "execution_count": 19,
   "id": "e45612a5",
   "metadata": {},
   "outputs": [
    {
     "name": "stdout",
     "output_type": "stream",
     "text": [
      "<class 'pandas.core.frame.DataFrame'>\n",
      "RangeIndex: 99441 entries, 0 to 99440\n",
      "Data columns (total 8 columns):\n",
      " #   Column                         Non-Null Count  Dtype \n",
      "---  ------                         --------------  ----- \n",
      " 0   order_id                       99441 non-null  object\n",
      " 1   customer_id                    99441 non-null  object\n",
      " 2   order_status                   99441 non-null  object\n",
      " 3   order_purchase_timestamp       99441 non-null  object\n",
      " 4   order_approved_at              99281 non-null  object\n",
      " 5   order_delivered_carrier_date   97658 non-null  object\n",
      " 6   order_delivered_customer_date  96476 non-null  object\n",
      " 7   order_estimated_delivery_date  99441 non-null  object\n",
      "dtypes: object(8)\n",
      "memory usage: 6.1+ MB\n"
     ]
    },
    {
     "data": {
      "text/plain": [
       "order_id                            0\n",
       "customer_id                         0\n",
       "order_status                        0\n",
       "order_purchase_timestamp            0\n",
       "order_approved_at                 160\n",
       "order_delivered_carrier_date     1783\n",
       "order_delivered_customer_date    2965\n",
       "order_estimated_delivery_date       0\n",
       "dtype: int64"
      ]
     },
     "execution_count": 19,
     "metadata": {},
     "output_type": "execute_result"
    }
   ],
   "source": [
    "orders.info()\n",
    "orders.isnull().sum()"
   ]
  },
  {
   "cell_type": "code",
   "execution_count": 23,
   "id": "b37f19cf",
   "metadata": {},
   "outputs": [],
   "source": [
    "date_cols = [\n",
    "    'order_purchase_timestamp',\n",
    "    'order_approved_at',\n",
    "    'order_delivered_carrier_date',\n",
    "    'order_delivered_customer_date',\n",
    "    'order_estimated_delivery_date'\n",
    "]\n",
    "\n",
    "for col in date_cols:\n",
    "    orders[col] = pd.to_datetime(orders[col], errors='coerce')"
   ]
  },
  {
   "cell_type": "code",
   "execution_count": 27,
   "id": "80fc2a5a",
   "metadata": {},
   "outputs": [
    {
     "data": {
      "text/plain": [
       "0"
      ]
     },
     "execution_count": 27,
     "metadata": {},
     "output_type": "execute_result"
    }
   ],
   "source": [
    "orders[orders['order_purchase_timestamp'] > pd.Timestamp.now()].shape[0]"
   ]
  },
  {
   "cell_type": "code",
   "execution_count": 30,
   "id": "e8381fce",
   "metadata": {},
   "outputs": [
    {
     "data": {
      "text/plain": [
       "0"
      ]
     },
     "execution_count": 30,
     "metadata": {},
     "output_type": "execute_result"
    }
   ],
   "source": [
    "orders['order_id'].duplicated().sum()"
   ]
  },
  {
   "cell_type": "code",
   "execution_count": 32,
   "id": "f6809e2d",
   "metadata": {},
   "outputs": [
    {
     "data": {
      "text/html": [
       "<div>\n",
       "<style scoped>\n",
       "    .dataframe tbody tr th:only-of-type {\n",
       "        vertical-align: middle;\n",
       "    }\n",
       "\n",
       "    .dataframe tbody tr th {\n",
       "        vertical-align: top;\n",
       "    }\n",
       "\n",
       "    .dataframe thead th {\n",
       "        text-align: right;\n",
       "    }\n",
       "</style>\n",
       "<table border=\"1\" class=\"dataframe\">\n",
       "  <thead>\n",
       "    <tr style=\"text-align: right;\">\n",
       "      <th></th>\n",
       "      <th>order_id</th>\n",
       "      <th>customer_id</th>\n",
       "      <th>order_status</th>\n",
       "      <th>order_purchase_timestamp</th>\n",
       "      <th>order_approved_at</th>\n",
       "      <th>order_delivered_carrier_date</th>\n",
       "      <th>order_delivered_customer_date</th>\n",
       "      <th>order_estimated_delivery_date</th>\n",
       "    </tr>\n",
       "  </thead>\n",
       "  <tbody>\n",
       "  </tbody>\n",
       "</table>\n",
       "</div>"
      ],
      "text/plain": [
       "Empty DataFrame\n",
       "Columns: [order_id, customer_id, order_status, order_purchase_timestamp, order_approved_at, order_delivered_carrier_date, order_delivered_customer_date, order_estimated_delivery_date]\n",
       "Index: []"
      ]
     },
     "execution_count": 32,
     "metadata": {},
     "output_type": "execute_result"
    }
   ],
   "source": [
    "orders[orders['order_id'].duplicated(keep=False)]"
   ]
  },
  {
   "cell_type": "code",
   "execution_count": 42,
   "id": "8d5d3436",
   "metadata": {},
   "outputs": [
    {
     "data": {
      "text/plain": [
       "['order_id',\n",
       " 'customer_id',\n",
       " 'order_status',\n",
       " 'purchase_time',\n",
       " 'order_approved_at',\n",
       " 'order_delivered_carrier_date',\n",
       " 'delivered_time',\n",
       " 'order_estimated_delivery_date']"
      ]
     },
     "execution_count": 42,
     "metadata": {},
     "output_type": "execute_result"
    }
   ],
   "source": [
    "orders.columns.tolist()"
   ]
  },
  {
   "cell_type": "code",
   "execution_count": 36,
   "id": "bbb52d7b",
   "metadata": {},
   "outputs": [],
   "source": [
    "orders.columns = (\n",
    "    orders.columns\n",
    "    .str.strip()\n",
    "    .str.lower()\n",
    "    .str.replace(\" \", \"_\")\n",
    ")"
   ]
  },
  {
   "cell_type": "code",
   "execution_count": 41,
   "id": "7e6da536",
   "metadata": {},
   "outputs": [],
   "source": [
    "orders.rename(columns={\n",
    "    'order_purchase_timestamp': 'purchase_time',\n",
    "    'order_delivered_customer_date': 'delivered_time'\n",
    "    \n",
    "}, inplace=True)"
   ]
  },
  {
   "cell_type": "code",
   "execution_count": 44,
   "id": "ef72c75c",
   "metadata": {},
   "outputs": [
    {
     "data": {
      "text/plain": [
       "['order_id',\n",
       " 'customer_id',\n",
       " 'order_status',\n",
       " 'purchase_time',\n",
       " 'order_approved_at',\n",
       " 'order_delivered_carrier_date',\n",
       " 'delivered_time',\n",
       " 'order_estimated_delivery_date']"
      ]
     },
     "execution_count": 44,
     "metadata": {},
     "output_type": "execute_result"
    }
   ],
   "source": [
    "orders.columns.tolist()"
   ]
  },
  {
   "cell_type": "code",
   "execution_count": 46,
   "id": "00393759",
   "metadata": {},
   "outputs": [],
   "source": [
    "orders.to_csv(\"orders_1.csv\", index=False)"
   ]
  },
  {
   "cell_type": "markdown",
   "id": "0b7de549",
   "metadata": {},
   "source": [
    "#### Cleaning Steps Applied:\n",
    "\n",
    "1. **Loaded the dataset** from the original CSV file\n",
    "2. **Checked for nulls** across all columns to identify incomplete data. I left the nulls as it is for now because there aren't much and I'll tackle them if need be on SQL during Data Exploration.\n",
    "3. **Converted date fields** (`order_purchase_timestamp`, `order_approved_at`, etc.) to proper datetime format\n",
    "4. **Checked for future timestamps** in `order_purchase_timestamp` - found none.\n",
    "5. **Checked for duplicates in `order_id` - there were none.\n",
    "6. **Standardized column names** by ensuring they are in lowercase and use snake_case formatting\n",
    "7. **Kept all columns**, including those with missing values, for a complete record of all order types (delivered, canceled, etc.)\n",
    "8. **Exported** the cleaned data to a new CSV file: `orders_1.csv`"
   ]
  },
  {
   "cell_type": "markdown",
   "id": "2cbfd4e9",
   "metadata": {},
   "source": [
    "## Cleaning the `order_reviews` Dataset (2)\n",
    "\n",
    "Next, I'll clean the `order_reviews.csv` dataset, which contains customer-generated reviews for each order. This dataset provides critical insights into **customer satisfaction**, including review scores, written comments, and timestamps for when reviews were created and answered.\n",
    "\n",
    "### 🧹 Cleaning Steps Planned:\n",
    "\n",
    "1. **Load the dataset** and inspect column names and types  \n",
    "2. **Check for missing values**, particularly in review titles and messages  \n",
    "3. **Convert date columns** (`review_creation_date`, `review_answer_timestamp`) to proper datetime format  \n",
    "4. **(Optional)** Create indicator columns for presence of review text  \n",
    "5. **Ensure column naming consistency** using lowercase and snake_case  \n",
    "6. **Verify uniqueness of `review_id`**  \n",
    "7. **Export** the cleaned version to a new file, e.g., `order_reviews_1.csv`"
   ]
  },
  {
   "cell_type": "code",
   "execution_count": 49,
   "id": "e6ce85c4",
   "metadata": {},
   "outputs": [],
   "source": [
    "orders_reviews = dfs['order_reviews']"
   ]
  },
  {
   "cell_type": "code",
   "execution_count": 50,
   "id": "f57403bb",
   "metadata": {},
   "outputs": [
    {
     "name": "stdout",
     "output_type": "stream",
     "text": [
      "<class 'pandas.core.frame.DataFrame'>\n",
      "RangeIndex: 99224 entries, 0 to 99223\n",
      "Data columns (total 7 columns):\n",
      " #   Column                   Non-Null Count  Dtype \n",
      "---  ------                   --------------  ----- \n",
      " 0   review_id                99224 non-null  object\n",
      " 1   order_id                 99224 non-null  object\n",
      " 2   review_score             99224 non-null  int64 \n",
      " 3   review_comment_title     11568 non-null  object\n",
      " 4   review_comment_message   40977 non-null  object\n",
      " 5   review_creation_date     99224 non-null  object\n",
      " 6   review_answer_timestamp  99224 non-null  object\n",
      "dtypes: int64(1), object(6)\n",
      "memory usage: 5.3+ MB\n"
     ]
    }
   ],
   "source": [
    "orders_reviews.info()"
   ]
  },
  {
   "cell_type": "code",
   "execution_count": 52,
   "id": "e86f3d54",
   "metadata": {},
   "outputs": [
    {
     "data": {
      "text/plain": [
       "review_id                      0\n",
       "order_id                       0\n",
       "review_score                   0\n",
       "review_comment_title       87656\n",
       "review_comment_message     58247\n",
       "review_creation_date           0\n",
       "review_answer_timestamp        0\n",
       "dtype: int64"
      ]
     },
     "execution_count": 52,
     "metadata": {},
     "output_type": "execute_result"
    }
   ],
   "source": [
    "orders_reviews.isnull().sum()"
   ]
  },
  {
   "cell_type": "code",
   "execution_count": 54,
   "id": "9b73c6e4",
   "metadata": {},
   "outputs": [],
   "source": [
    "order_reviews = dfs['order_reviews']"
   ]
  },
  {
   "cell_type": "code",
   "execution_count": 56,
   "id": "026a3cfd",
   "metadata": {},
   "outputs": [],
   "source": [
    "order_reviews['review_creation_date'] = pd.to_datetime(order_reviews['review_creation_date'], errors='coerce')\n",
    "order_reviews['review_answer_timestamp'] = pd.to_datetime(order_reviews['review_answer_timestamp'], errors='coerce')"
   ]
  },
  {
   "cell_type": "code",
   "execution_count": 61,
   "id": "b58a28db",
   "metadata": {},
   "outputs": [],
   "source": [
    "# Optional: add indicator for message presence\n",
    "order_reviews['has_message'] = order_reviews['review_comment_message'].notnull().astype(int)"
   ]
  },
  {
   "cell_type": "code",
   "execution_count": 63,
   "id": "68a528fe",
   "metadata": {},
   "outputs": [
    {
     "data": {
      "text/html": [
       "<div>\n",
       "<style scoped>\n",
       "    .dataframe tbody tr th:only-of-type {\n",
       "        vertical-align: middle;\n",
       "    }\n",
       "\n",
       "    .dataframe tbody tr th {\n",
       "        vertical-align: top;\n",
       "    }\n",
       "\n",
       "    .dataframe thead th {\n",
       "        text-align: right;\n",
       "    }\n",
       "</style>\n",
       "<table border=\"1\" class=\"dataframe\">\n",
       "  <thead>\n",
       "    <tr style=\"text-align: right;\">\n",
       "      <th></th>\n",
       "      <th>review_id</th>\n",
       "      <th>order_id</th>\n",
       "      <th>review_score</th>\n",
       "      <th>review_comment_title</th>\n",
       "      <th>review_comment_message</th>\n",
       "      <th>review_creation_date</th>\n",
       "      <th>review_answer_timestamp</th>\n",
       "      <th>has_message</th>\n",
       "    </tr>\n",
       "  </thead>\n",
       "  <tbody>\n",
       "    <tr>\n",
       "      <th>3</th>\n",
       "      <td>e64fb393e7b32834bb789ff8bb30750e</td>\n",
       "      <td>658677c97b385a9be170737859d3511b</td>\n",
       "      <td>5</td>\n",
       "      <td>NaN</td>\n",
       "      <td>Recebi bem antes do prazo estipulado.</td>\n",
       "      <td>2017-04-21</td>\n",
       "      <td>2017-04-21 22:02:06</td>\n",
       "      <td>1</td>\n",
       "    </tr>\n",
       "    <tr>\n",
       "      <th>4</th>\n",
       "      <td>f7c4243c7fe1938f181bec41a392bdeb</td>\n",
       "      <td>8e6bfb81e283fa7e4f11123a3fb894f1</td>\n",
       "      <td>5</td>\n",
       "      <td>NaN</td>\n",
       "      <td>Parabéns lojas lannister adorei comprar pela I...</td>\n",
       "      <td>2018-03-01</td>\n",
       "      <td>2018-03-02 10:26:53</td>\n",
       "      <td>1</td>\n",
       "    </tr>\n",
       "    <tr>\n",
       "      <th>9</th>\n",
       "      <td>8670d52e15e00043ae7de4c01cc2fe06</td>\n",
       "      <td>b9bf720beb4ab3728760088589c62129</td>\n",
       "      <td>4</td>\n",
       "      <td>recomendo</td>\n",
       "      <td>aparelho eficiente. no site a marca do aparelh...</td>\n",
       "      <td>2018-05-22</td>\n",
       "      <td>2018-05-23 16:45:47</td>\n",
       "      <td>1</td>\n",
       "    </tr>\n",
       "    <tr>\n",
       "      <th>12</th>\n",
       "      <td>4b49719c8a200003f700d3d986ea1a19</td>\n",
       "      <td>9d6f15f95d01e79bd1349cc208361f09</td>\n",
       "      <td>4</td>\n",
       "      <td>NaN</td>\n",
       "      <td>Mas um pouco ,travando...pelo valor ta Boa.\\r\\n</td>\n",
       "      <td>2018-02-16</td>\n",
       "      <td>2018-02-20 10:52:22</td>\n",
       "      <td>1</td>\n",
       "    </tr>\n",
       "    <tr>\n",
       "      <th>15</th>\n",
       "      <td>3948b09f7c818e2d86c9a546758b2335</td>\n",
       "      <td>e51478e7e277a83743b6f9991dbfa3fb</td>\n",
       "      <td>5</td>\n",
       "      <td>Super recomendo</td>\n",
       "      <td>Vendedor confiável, produto ok e entrega antes...</td>\n",
       "      <td>2018-05-23</td>\n",
       "      <td>2018-05-24 03:00:01</td>\n",
       "      <td>1</td>\n",
       "    </tr>\n",
       "    <tr>\n",
       "      <th>...</th>\n",
       "      <td>...</td>\n",
       "      <td>...</td>\n",
       "      <td>...</td>\n",
       "      <td>...</td>\n",
       "      <td>...</td>\n",
       "      <td>...</td>\n",
       "      <td>...</td>\n",
       "      <td>...</td>\n",
       "    </tr>\n",
       "    <tr>\n",
       "      <th>99205</th>\n",
       "      <td>98fffa80dc9acbde7388bef1600f3b15</td>\n",
       "      <td>d398e9c82363c12527f71801bf0e6100</td>\n",
       "      <td>4</td>\n",
       "      <td>NaN</td>\n",
       "      <td>para este produto recebi de acordo com a compr...</td>\n",
       "      <td>2017-11-29</td>\n",
       "      <td>2017-11-30 15:52:51</td>\n",
       "      <td>1</td>\n",
       "    </tr>\n",
       "    <tr>\n",
       "      <th>99208</th>\n",
       "      <td>df5fae90e85354241d5d64a8955b2b09</td>\n",
       "      <td>509b86c65fe4e2ad5b96408cfef9755e</td>\n",
       "      <td>5</td>\n",
       "      <td>NaN</td>\n",
       "      <td>Entregou dentro do prazo. O produto chegou em ...</td>\n",
       "      <td>2018-02-07</td>\n",
       "      <td>2018-02-19 19:47:23</td>\n",
       "      <td>1</td>\n",
       "    </tr>\n",
       "    <tr>\n",
       "      <th>99215</th>\n",
       "      <td>a709d176f59bc3af77f4149c96bae357</td>\n",
       "      <td>d5cb12269711bd1eaf7eed8fd32a7c95</td>\n",
       "      <td>3</td>\n",
       "      <td>NaN</td>\n",
       "      <td>O produto não foi enviado com NF, não existe v...</td>\n",
       "      <td>2018-05-19</td>\n",
       "      <td>2018-05-20 21:51:06</td>\n",
       "      <td>1</td>\n",
       "    </tr>\n",
       "    <tr>\n",
       "      <th>99221</th>\n",
       "      <td>b3de70c89b1510c4cd3d0649fd302472</td>\n",
       "      <td>55d4004744368f5571d1f590031933e4</td>\n",
       "      <td>5</td>\n",
       "      <td>NaN</td>\n",
       "      <td>Excelente mochila, entrega super rápida. Super...</td>\n",
       "      <td>2018-03-22</td>\n",
       "      <td>2018-03-23 09:10:43</td>\n",
       "      <td>1</td>\n",
       "    </tr>\n",
       "    <tr>\n",
       "      <th>99223</th>\n",
       "      <td>efe49f1d6f951dd88b51e6ccd4cc548f</td>\n",
       "      <td>90531360ecb1eec2a1fbb265a0db0508</td>\n",
       "      <td>1</td>\n",
       "      <td>NaN</td>\n",
       "      <td>meu produto chegou e ja tenho que devolver, po...</td>\n",
       "      <td>2017-07-03</td>\n",
       "      <td>2017-07-03 21:01:49</td>\n",
       "      <td>1</td>\n",
       "    </tr>\n",
       "  </tbody>\n",
       "</table>\n",
       "<p>40977 rows × 8 columns</p>\n",
       "</div>"
      ],
      "text/plain": [
       "                              review_id                          order_id  \\\n",
       "3      e64fb393e7b32834bb789ff8bb30750e  658677c97b385a9be170737859d3511b   \n",
       "4      f7c4243c7fe1938f181bec41a392bdeb  8e6bfb81e283fa7e4f11123a3fb894f1   \n",
       "9      8670d52e15e00043ae7de4c01cc2fe06  b9bf720beb4ab3728760088589c62129   \n",
       "12     4b49719c8a200003f700d3d986ea1a19  9d6f15f95d01e79bd1349cc208361f09   \n",
       "15     3948b09f7c818e2d86c9a546758b2335  e51478e7e277a83743b6f9991dbfa3fb   \n",
       "...                                 ...                               ...   \n",
       "99205  98fffa80dc9acbde7388bef1600f3b15  d398e9c82363c12527f71801bf0e6100   \n",
       "99208  df5fae90e85354241d5d64a8955b2b09  509b86c65fe4e2ad5b96408cfef9755e   \n",
       "99215  a709d176f59bc3af77f4149c96bae357  d5cb12269711bd1eaf7eed8fd32a7c95   \n",
       "99221  b3de70c89b1510c4cd3d0649fd302472  55d4004744368f5571d1f590031933e4   \n",
       "99223  efe49f1d6f951dd88b51e6ccd4cc548f  90531360ecb1eec2a1fbb265a0db0508   \n",
       "\n",
       "       review_score review_comment_title  \\\n",
       "3                 5                  NaN   \n",
       "4                 5                  NaN   \n",
       "9                 4            recomendo   \n",
       "12                4                  NaN   \n",
       "15                5      Super recomendo   \n",
       "...             ...                  ...   \n",
       "99205             4                  NaN   \n",
       "99208             5                  NaN   \n",
       "99215             3                  NaN   \n",
       "99221             5                  NaN   \n",
       "99223             1                  NaN   \n",
       "\n",
       "                                  review_comment_message review_creation_date  \\\n",
       "3                  Recebi bem antes do prazo estipulado.           2017-04-21   \n",
       "4      Parabéns lojas lannister adorei comprar pela I...           2018-03-01   \n",
       "9      aparelho eficiente. no site a marca do aparelh...           2018-05-22   \n",
       "12       Mas um pouco ,travando...pelo valor ta Boa.\\r\\n           2018-02-16   \n",
       "15     Vendedor confiável, produto ok e entrega antes...           2018-05-23   \n",
       "...                                                  ...                  ...   \n",
       "99205  para este produto recebi de acordo com a compr...           2017-11-29   \n",
       "99208  Entregou dentro do prazo. O produto chegou em ...           2018-02-07   \n",
       "99215  O produto não foi enviado com NF, não existe v...           2018-05-19   \n",
       "99221  Excelente mochila, entrega super rápida. Super...           2018-03-22   \n",
       "99223  meu produto chegou e ja tenho que devolver, po...           2017-07-03   \n",
       "\n",
       "      review_answer_timestamp  has_message  \n",
       "3         2017-04-21 22:02:06            1  \n",
       "4         2018-03-02 10:26:53            1  \n",
       "9         2018-05-23 16:45:47            1  \n",
       "12        2018-02-20 10:52:22            1  \n",
       "15        2018-05-24 03:00:01            1  \n",
       "...                       ...          ...  \n",
       "99205     2017-11-30 15:52:51            1  \n",
       "99208     2018-02-19 19:47:23            1  \n",
       "99215     2018-05-20 21:51:06            1  \n",
       "99221     2018-03-23 09:10:43            1  \n",
       "99223     2017-07-03 21:01:49            1  \n",
       "\n",
       "[40977 rows x 8 columns]"
      ]
     },
     "execution_count": 63,
     "metadata": {},
     "output_type": "execute_result"
    }
   ],
   "source": [
    "order_reviews['has_message'].mean()  # % of reviews with text\n",
    "order_reviews[order_reviews['has_message'] == 1]"
   ]
  },
  {
   "cell_type": "code",
   "execution_count": 65,
   "id": "5251d609",
   "metadata": {},
   "outputs": [
    {
     "data": {
      "text/plain": [
       "814"
      ]
     },
     "execution_count": 65,
     "metadata": {},
     "output_type": "execute_result"
    }
   ],
   "source": [
    "order_reviews['review_id'].duplicated().sum()"
   ]
  },
  {
   "cell_type": "code",
   "execution_count": 67,
   "id": "068aead8",
   "metadata": {},
   "outputs": [
    {
     "data": {
      "text/html": [
       "<div>\n",
       "<style scoped>\n",
       "    .dataframe tbody tr th:only-of-type {\n",
       "        vertical-align: middle;\n",
       "    }\n",
       "\n",
       "    .dataframe tbody tr th {\n",
       "        vertical-align: top;\n",
       "    }\n",
       "\n",
       "    .dataframe thead th {\n",
       "        text-align: right;\n",
       "    }\n",
       "</style>\n",
       "<table border=\"1\" class=\"dataframe\">\n",
       "  <thead>\n",
       "    <tr style=\"text-align: right;\">\n",
       "      <th></th>\n",
       "      <th>review_id</th>\n",
       "      <th>order_id</th>\n",
       "      <th>review_score</th>\n",
       "      <th>review_comment_title</th>\n",
       "      <th>review_comment_message</th>\n",
       "      <th>review_creation_date</th>\n",
       "      <th>review_answer_timestamp</th>\n",
       "      <th>has_message</th>\n",
       "    </tr>\n",
       "  </thead>\n",
       "  <tbody>\n",
       "    <tr>\n",
       "      <th>46678</th>\n",
       "      <td>00130cbe1f9d422698c812ed8ded1919</td>\n",
       "      <td>dfcdfc43867d1c1381bfaf62d6b9c195</td>\n",
       "      <td>1</td>\n",
       "      <td>NaN</td>\n",
       "      <td>O cartucho \"original HP\" 60XL não é reconhecid...</td>\n",
       "      <td>2018-03-07</td>\n",
       "      <td>2018-03-20 18:08:23</td>\n",
       "      <td>1</td>\n",
       "    </tr>\n",
       "    <tr>\n",
       "      <th>29841</th>\n",
       "      <td>00130cbe1f9d422698c812ed8ded1919</td>\n",
       "      <td>04a28263e085d399c97ae49e0b477efa</td>\n",
       "      <td>1</td>\n",
       "      <td>NaN</td>\n",
       "      <td>O cartucho \"original HP\" 60XL não é reconhecid...</td>\n",
       "      <td>2018-03-07</td>\n",
       "      <td>2018-03-20 18:08:23</td>\n",
       "      <td>1</td>\n",
       "    </tr>\n",
       "    <tr>\n",
       "      <th>90677</th>\n",
       "      <td>0115633a9c298b6a98bcbe4eee75345f</td>\n",
       "      <td>78a4201f58af3463bdab842eea4bc801</td>\n",
       "      <td>5</td>\n",
       "      <td>NaN</td>\n",
       "      <td>NaN</td>\n",
       "      <td>2017-09-21</td>\n",
       "      <td>2017-09-26 03:27:47</td>\n",
       "      <td>0</td>\n",
       "    </tr>\n",
       "    <tr>\n",
       "      <th>63193</th>\n",
       "      <td>0115633a9c298b6a98bcbe4eee75345f</td>\n",
       "      <td>0c9850b2c179c1ef60d2855e2751d1fa</td>\n",
       "      <td>5</td>\n",
       "      <td>NaN</td>\n",
       "      <td>NaN</td>\n",
       "      <td>2017-09-21</td>\n",
       "      <td>2017-09-26 03:27:47</td>\n",
       "      <td>0</td>\n",
       "    </tr>\n",
       "    <tr>\n",
       "      <th>92876</th>\n",
       "      <td>0174caf0ee5964646040cd94e15ac95e</td>\n",
       "      <td>f93a732712407c02dce5dd5088d0f47b</td>\n",
       "      <td>1</td>\n",
       "      <td>NaN</td>\n",
       "      <td>Produto entregue dentro de embalagem do fornec...</td>\n",
       "      <td>2018-03-07</td>\n",
       "      <td>2018-03-08 03:00:53</td>\n",
       "      <td>1</td>\n",
       "    </tr>\n",
       "    <tr>\n",
       "      <th>...</th>\n",
       "      <td>...</td>\n",
       "      <td>...</td>\n",
       "      <td>...</td>\n",
       "      <td>...</td>\n",
       "      <td>...</td>\n",
       "      <td>...</td>\n",
       "      <td>...</td>\n",
       "      <td>...</td>\n",
       "    </tr>\n",
       "    <tr>\n",
       "      <th>31120</th>\n",
       "      <td>fe5c833752953fed3209646f1f63b53c</td>\n",
       "      <td>4863e15fa53273cc7219c58f5ffda4fb</td>\n",
       "      <td>1</td>\n",
       "      <td>NaN</td>\n",
       "      <td>Comprei dois produtos e ambos, mesmo enviados ...</td>\n",
       "      <td>2018-02-28</td>\n",
       "      <td>2018-02-28 13:57:52</td>\n",
       "      <td>1</td>\n",
       "    </tr>\n",
       "    <tr>\n",
       "      <th>7870</th>\n",
       "      <td>ff2fc9e68f8aabfbe18d710b83aabd30</td>\n",
       "      <td>2da58e0a7dcfa4ce1e00fad9d03ca3b5</td>\n",
       "      <td>2</td>\n",
       "      <td>NaN</td>\n",
       "      <td>NaN</td>\n",
       "      <td>2018-03-17</td>\n",
       "      <td>2018-03-19 11:44:15</td>\n",
       "      <td>0</td>\n",
       "    </tr>\n",
       "    <tr>\n",
       "      <th>82521</th>\n",
       "      <td>ff2fc9e68f8aabfbe18d710b83aabd30</td>\n",
       "      <td>1078d496cc6ab9a8e6f2be77abf5091b</td>\n",
       "      <td>2</td>\n",
       "      <td>NaN</td>\n",
       "      <td>NaN</td>\n",
       "      <td>2018-03-17</td>\n",
       "      <td>2018-03-19 11:44:15</td>\n",
       "      <td>0</td>\n",
       "    </tr>\n",
       "    <tr>\n",
       "      <th>73951</th>\n",
       "      <td>ffb8cff872a625632ac983eb1f88843c</td>\n",
       "      <td>c44883fc2529b4aa03ca90e7e09d95b6</td>\n",
       "      <td>3</td>\n",
       "      <td>NaN</td>\n",
       "      <td>NaN</td>\n",
       "      <td>2017-07-22</td>\n",
       "      <td>2017-07-26 13:41:07</td>\n",
       "      <td>0</td>\n",
       "    </tr>\n",
       "    <tr>\n",
       "      <th>1985</th>\n",
       "      <td>ffb8cff872a625632ac983eb1f88843c</td>\n",
       "      <td>c88b1d1b157a9999ce368f218a407141</td>\n",
       "      <td>3</td>\n",
       "      <td>NaN</td>\n",
       "      <td>NaN</td>\n",
       "      <td>2017-07-22</td>\n",
       "      <td>2017-07-26 13:41:07</td>\n",
       "      <td>0</td>\n",
       "    </tr>\n",
       "  </tbody>\n",
       "</table>\n",
       "<p>1603 rows × 8 columns</p>\n",
       "</div>"
      ],
      "text/plain": [
       "                              review_id                          order_id  \\\n",
       "46678  00130cbe1f9d422698c812ed8ded1919  dfcdfc43867d1c1381bfaf62d6b9c195   \n",
       "29841  00130cbe1f9d422698c812ed8ded1919  04a28263e085d399c97ae49e0b477efa   \n",
       "90677  0115633a9c298b6a98bcbe4eee75345f  78a4201f58af3463bdab842eea4bc801   \n",
       "63193  0115633a9c298b6a98bcbe4eee75345f  0c9850b2c179c1ef60d2855e2751d1fa   \n",
       "92876  0174caf0ee5964646040cd94e15ac95e  f93a732712407c02dce5dd5088d0f47b   \n",
       "...                                 ...                               ...   \n",
       "31120  fe5c833752953fed3209646f1f63b53c  4863e15fa53273cc7219c58f5ffda4fb   \n",
       "7870   ff2fc9e68f8aabfbe18d710b83aabd30  2da58e0a7dcfa4ce1e00fad9d03ca3b5   \n",
       "82521  ff2fc9e68f8aabfbe18d710b83aabd30  1078d496cc6ab9a8e6f2be77abf5091b   \n",
       "73951  ffb8cff872a625632ac983eb1f88843c  c44883fc2529b4aa03ca90e7e09d95b6   \n",
       "1985   ffb8cff872a625632ac983eb1f88843c  c88b1d1b157a9999ce368f218a407141   \n",
       "\n",
       "       review_score review_comment_title  \\\n",
       "46678             1                  NaN   \n",
       "29841             1                  NaN   \n",
       "90677             5                  NaN   \n",
       "63193             5                  NaN   \n",
       "92876             1                  NaN   \n",
       "...             ...                  ...   \n",
       "31120             1                  NaN   \n",
       "7870              2                  NaN   \n",
       "82521             2                  NaN   \n",
       "73951             3                  NaN   \n",
       "1985              3                  NaN   \n",
       "\n",
       "                                  review_comment_message review_creation_date  \\\n",
       "46678  O cartucho \"original HP\" 60XL não é reconhecid...           2018-03-07   \n",
       "29841  O cartucho \"original HP\" 60XL não é reconhecid...           2018-03-07   \n",
       "90677                                                NaN           2017-09-21   \n",
       "63193                                                NaN           2017-09-21   \n",
       "92876  Produto entregue dentro de embalagem do fornec...           2018-03-07   \n",
       "...                                                  ...                  ...   \n",
       "31120  Comprei dois produtos e ambos, mesmo enviados ...           2018-02-28   \n",
       "7870                                                 NaN           2018-03-17   \n",
       "82521                                                NaN           2018-03-17   \n",
       "73951                                                NaN           2017-07-22   \n",
       "1985                                                 NaN           2017-07-22   \n",
       "\n",
       "      review_answer_timestamp  has_message  \n",
       "46678     2018-03-20 18:08:23            1  \n",
       "29841     2018-03-20 18:08:23            1  \n",
       "90677     2017-09-26 03:27:47            0  \n",
       "63193     2017-09-26 03:27:47            0  \n",
       "92876     2018-03-08 03:00:53            1  \n",
       "...                       ...          ...  \n",
       "31120     2018-02-28 13:57:52            1  \n",
       "7870      2018-03-19 11:44:15            0  \n",
       "82521     2018-03-19 11:44:15            0  \n",
       "73951     2017-07-26 13:41:07            0  \n",
       "1985      2017-07-26 13:41:07            0  \n",
       "\n",
       "[1603 rows x 8 columns]"
      ]
     },
     "execution_count": 67,
     "metadata": {},
     "output_type": "execute_result"
    }
   ],
   "source": [
    "order_reviews[order_reviews['review_id'].duplicated(keep=False)].sort_values('review_id')"
   ]
  },
  {
   "cell_type": "code",
   "execution_count": 69,
   "id": "7920284e",
   "metadata": {},
   "outputs": [
    {
     "data": {
      "text/plain": [
       "7b606b0d57b078384f0b58eac1d41d78    3\n",
       "dbdf1ea31790c8ecfcc6750525661a9b    3\n",
       "32415bbf6e341d5d517080a796f79b5c    3\n",
       "0c76e7a547a531e7bf9f0b99cba071c1    3\n",
       "4219a80ab469e3fc9901437b73da3f75    3\n",
       "abbfacb2964f74f6487c9c10ac46daa6    3\n",
       "e44840754f12fad2b8646712121b349a    3\n",
       "70509c441d994fa03d6c1457930c9024    3\n",
       "2172867fd5b1a55f98fe4608e1547b4b    3\n",
       "832acec9bbf4efe65c3fb6423d8b4ed7    3\n",
       "Name: review_id, dtype: int64"
      ]
     },
     "execution_count": 69,
     "metadata": {},
     "output_type": "execute_result"
    }
   ],
   "source": [
    "order_reviews['review_id'].value_counts().head(10)"
   ]
  },
  {
   "cell_type": "code",
   "execution_count": 71,
   "id": "71fb7cee",
   "metadata": {},
   "outputs": [
    {
     "data": {
      "text/html": [
       "<div>\n",
       "<style scoped>\n",
       "    .dataframe tbody tr th:only-of-type {\n",
       "        vertical-align: middle;\n",
       "    }\n",
       "\n",
       "    .dataframe tbody tr th {\n",
       "        vertical-align: top;\n",
       "    }\n",
       "\n",
       "    .dataframe thead th {\n",
       "        text-align: right;\n",
       "    }\n",
       "</style>\n",
       "<table border=\"1\" class=\"dataframe\">\n",
       "  <thead>\n",
       "    <tr style=\"text-align: right;\">\n",
       "      <th></th>\n",
       "      <th>review_id</th>\n",
       "      <th>order_id</th>\n",
       "      <th>review_score</th>\n",
       "      <th>review_comment_title</th>\n",
       "      <th>review_comment_message</th>\n",
       "      <th>review_creation_date</th>\n",
       "      <th>review_answer_timestamp</th>\n",
       "      <th>has_message</th>\n",
       "    </tr>\n",
       "  </thead>\n",
       "  <tbody>\n",
       "    <tr>\n",
       "      <th>7500</th>\n",
       "      <td>7b606b0d57b078384f0b58eac1d41d78</td>\n",
       "      <td>f3028a8f41ea1ee2b461420913663f97</td>\n",
       "      <td>5</td>\n",
       "      <td>NaN</td>\n",
       "      <td>NaN</td>\n",
       "      <td>2017-02-15</td>\n",
       "      <td>2017-02-21 23:30:22</td>\n",
       "      <td>0</td>\n",
       "    </tr>\n",
       "    <tr>\n",
       "      <th>59859</th>\n",
       "      <td>7b606b0d57b078384f0b58eac1d41d78</td>\n",
       "      <td>2deb17060fc1ce18a85eba953ddcdeaf</td>\n",
       "      <td>5</td>\n",
       "      <td>NaN</td>\n",
       "      <td>NaN</td>\n",
       "      <td>2017-02-15</td>\n",
       "      <td>2017-02-21 23:30:22</td>\n",
       "      <td>0</td>\n",
       "    </tr>\n",
       "    <tr>\n",
       "      <th>61069</th>\n",
       "      <td>7b606b0d57b078384f0b58eac1d41d78</td>\n",
       "      <td>2f8f31eb2f7b6572836d662a6625c8e4</td>\n",
       "      <td>5</td>\n",
       "      <td>NaN</td>\n",
       "      <td>NaN</td>\n",
       "      <td>2017-02-15</td>\n",
       "      <td>2017-02-21 23:30:22</td>\n",
       "      <td>0</td>\n",
       "    </tr>\n",
       "  </tbody>\n",
       "</table>\n",
       "</div>"
      ],
      "text/plain": [
       "                              review_id                          order_id  \\\n",
       "7500   7b606b0d57b078384f0b58eac1d41d78  f3028a8f41ea1ee2b461420913663f97   \n",
       "59859  7b606b0d57b078384f0b58eac1d41d78  2deb17060fc1ce18a85eba953ddcdeaf   \n",
       "61069  7b606b0d57b078384f0b58eac1d41d78  2f8f31eb2f7b6572836d662a6625c8e4   \n",
       "\n",
       "       review_score review_comment_title review_comment_message  \\\n",
       "7500              5                  NaN                    NaN   \n",
       "59859             5                  NaN                    NaN   \n",
       "61069             5                  NaN                    NaN   \n",
       "\n",
       "      review_creation_date review_answer_timestamp  has_message  \n",
       "7500            2017-02-15     2017-02-21 23:30:22            0  \n",
       "59859           2017-02-15     2017-02-21 23:30:22            0  \n",
       "61069           2017-02-15     2017-02-21 23:30:22            0  "
      ]
     },
     "execution_count": 71,
     "metadata": {},
     "output_type": "execute_result"
    }
   ],
   "source": [
    "order_reviews[order_reviews['review_id'] == '7b606b0d57b078384f0b58eac1d41d78']"
   ]
  },
  {
   "cell_type": "code",
   "execution_count": 73,
   "id": "e08b5ccb",
   "metadata": {},
   "outputs": [
    {
     "data": {
      "text/plain": [
       "551"
      ]
     },
     "execution_count": 73,
     "metadata": {},
     "output_type": "execute_result"
    }
   ],
   "source": [
    "order_reviews['order_id'].duplicated().sum()"
   ]
  },
  {
   "cell_type": "code",
   "execution_count": 75,
   "id": "b43590b8",
   "metadata": {},
   "outputs": [
    {
     "data": {
      "text/plain": [
       "df56136b8031ecd28e200bb18e6ddb2e    3\n",
       "Name: order_id, dtype: int64"
      ]
     },
     "execution_count": 75,
     "metadata": {},
     "output_type": "execute_result"
    }
   ],
   "source": [
    "dupe_order_ids = order_reviews[order_reviews['order_id'].duplicated(keep=False)]\n",
    "dupe_order_ids['order_id'].value_counts().head(1)"
   ]
  },
  {
   "cell_type": "code",
   "execution_count": 77,
   "id": "bec88c2f",
   "metadata": {},
   "outputs": [
    {
     "data": {
      "text/html": [
       "<div>\n",
       "<style scoped>\n",
       "    .dataframe tbody tr th:only-of-type {\n",
       "        vertical-align: middle;\n",
       "    }\n",
       "\n",
       "    .dataframe tbody tr th {\n",
       "        vertical-align: top;\n",
       "    }\n",
       "\n",
       "    .dataframe thead th {\n",
       "        text-align: right;\n",
       "    }\n",
       "</style>\n",
       "<table border=\"1\" class=\"dataframe\">\n",
       "  <thead>\n",
       "    <tr style=\"text-align: right;\">\n",
       "      <th></th>\n",
       "      <th>review_id</th>\n",
       "      <th>order_id</th>\n",
       "      <th>review_score</th>\n",
       "      <th>review_comment_title</th>\n",
       "      <th>review_comment_message</th>\n",
       "      <th>review_creation_date</th>\n",
       "      <th>review_answer_timestamp</th>\n",
       "      <th>has_message</th>\n",
       "    </tr>\n",
       "  </thead>\n",
       "  <tbody>\n",
       "    <tr>\n",
       "      <th>2952</th>\n",
       "      <td>c444278834184f72b1484dfe47de7f97</td>\n",
       "      <td>df56136b8031ecd28e200bb18e6ddb2e</td>\n",
       "      <td>5</td>\n",
       "      <td>NaN</td>\n",
       "      <td>NaN</td>\n",
       "      <td>2017-02-08</td>\n",
       "      <td>2017-02-14 13:58:48</td>\n",
       "      <td>0</td>\n",
       "    </tr>\n",
       "    <tr>\n",
       "      <th>13982</th>\n",
       "      <td>72a1098d5b410ae50fbc0509d26daeb9</td>\n",
       "      <td>df56136b8031ecd28e200bb18e6ddb2e</td>\n",
       "      <td>5</td>\n",
       "      <td>NaN</td>\n",
       "      <td>NaN</td>\n",
       "      <td>2017-02-07</td>\n",
       "      <td>2017-02-10 10:46:09</td>\n",
       "      <td>0</td>\n",
       "    </tr>\n",
       "    <tr>\n",
       "      <th>62728</th>\n",
       "      <td>44f3e54834d23c5570c1d010824d4d59</td>\n",
       "      <td>df56136b8031ecd28e200bb18e6ddb2e</td>\n",
       "      <td>5</td>\n",
       "      <td>NaN</td>\n",
       "      <td>NaN</td>\n",
       "      <td>2017-02-09</td>\n",
       "      <td>2017-02-09 09:07:28</td>\n",
       "      <td>0</td>\n",
       "    </tr>\n",
       "  </tbody>\n",
       "</table>\n",
       "</div>"
      ],
      "text/plain": [
       "                              review_id                          order_id  \\\n",
       "2952   c444278834184f72b1484dfe47de7f97  df56136b8031ecd28e200bb18e6ddb2e   \n",
       "13982  72a1098d5b410ae50fbc0509d26daeb9  df56136b8031ecd28e200bb18e6ddb2e   \n",
       "62728  44f3e54834d23c5570c1d010824d4d59  df56136b8031ecd28e200bb18e6ddb2e   \n",
       "\n",
       "       review_score review_comment_title review_comment_message  \\\n",
       "2952              5                  NaN                    NaN   \n",
       "13982             5                  NaN                    NaN   \n",
       "62728             5                  NaN                    NaN   \n",
       "\n",
       "      review_creation_date review_answer_timestamp  has_message  \n",
       "2952            2017-02-08     2017-02-14 13:58:48            0  \n",
       "13982           2017-02-07     2017-02-10 10:46:09            0  \n",
       "62728           2017-02-09     2017-02-09 09:07:28            0  "
      ]
     },
     "execution_count": 77,
     "metadata": {},
     "output_type": "execute_result"
    }
   ],
   "source": [
    "order_reviews[order_reviews['order_id'] == 'df56136b8031ecd28e200bb18e6ddb2e']"
   ]
  },
  {
   "cell_type": "code",
   "execution_count": 79,
   "id": "8233542a",
   "metadata": {},
   "outputs": [],
   "source": [
    "order_reviews.drop_duplicates(subset='order_id', keep='first', inplace=True)"
   ]
  },
  {
   "cell_type": "code",
   "execution_count": 81,
   "id": "74072d01",
   "metadata": {},
   "outputs": [
    {
     "name": "stdout",
     "output_type": "stream",
     "text": [
      "Before drop: 99224\n",
      "After drop: 98673\n"
     ]
    }
   ],
   "source": [
    "# Reload original reviews CSV to get full count again\n",
    "original_reviews = pd.read_csv(\"order_reviews.csv\")\n",
    "print(\"Before drop:\", original_reviews.shape[0])\n",
    "\n",
    "# Current cleaned DataFrame\n",
    "print(\"After drop:\", order_reviews.shape[0])"
   ]
  },
  {
   "cell_type": "code",
   "execution_count": 84,
   "id": "17707eb5",
   "metadata": {},
   "outputs": [],
   "source": [
    "order_reviews.columns = (\n",
    "    order_reviews.columns\n",
    "    .str.strip()\n",
    "    .str.lower()\n",
    "    .str.replace(\" \", \"_\")\n",
    ")"
   ]
  },
  {
   "cell_type": "code",
   "execution_count": 87,
   "id": "0e7db3eb",
   "metadata": {},
   "outputs": [],
   "source": [
    "order_reviews.to_csv(\"order_reviews_1.csv\", index=False)"
   ]
  },
  {
   "cell_type": "code",
   "execution_count": 88,
   "id": "585c3930",
   "metadata": {},
   "outputs": [
    {
     "name": "stdout",
     "output_type": "stream",
     "text": [
      "<class 'pandas.core.frame.DataFrame'>\n",
      "Int64Index: 98673 entries, 0 to 99223\n",
      "Data columns (total 8 columns):\n",
      " #   Column                   Non-Null Count  Dtype         \n",
      "---  ------                   --------------  -----         \n",
      " 0   review_id                98673 non-null  object        \n",
      " 1   order_id                 98673 non-null  object        \n",
      " 2   review_score             98673 non-null  int64         \n",
      " 3   review_comment_title     11551 non-null  object        \n",
      " 4   review_comment_message   40785 non-null  object        \n",
      " 5   review_creation_date     98673 non-null  datetime64[ns]\n",
      " 6   review_answer_timestamp  98673 non-null  datetime64[ns]\n",
      " 7   has_message              98673 non-null  int64         \n",
      "dtypes: datetime64[ns](2), int64(2), object(4)\n",
      "memory usage: 6.8+ MB\n"
     ]
    }
   ],
   "source": [
    "orders_reviews.info()"
   ]
  },
  {
   "cell_type": "markdown",
   "id": "2f7bd250",
   "metadata": {},
   "source": [
    "#### Cleaning Steps Applied:\n",
    "\n",
    "1. **Checked for missing values**  \n",
    "   - Found that `review_comment_title` and `review_comment_message` had a large number of nulls.\n",
    "   - These were retained, as they're optional and not critical for every review.\n",
    "\n",
    "2. **Converted date columns to datetime format**  \n",
    "   - `review_creation_date` and `review_answer_timestamp` were converted using `pd.to_datetime`.\n",
    "\n",
    "3. **Added a binary flag for presence of message**  \n",
    "   - Created a new column `has_message` to indicate whether a review includes a comment message.\n",
    "\n",
    "4. **Detected and removed duplicate reviews for the same order**  \n",
    "   - Found 551 `order_id`s with multiple reviews.\n",
    "   - Since each order should only have one review, I kept only the first review per `order_id`.\n",
    "\n",
    "5. **Standardized column names**  \n",
    "   - Converted all column names to lowercase with underscores.\n",
    "\n",
    "6. **Exported cleaned data**  \n",
    "   - The cleaned dataset was saved as `order_reviews_1.csv`\n"
   ]
  },
  {
   "cell_type": "markdown",
   "id": "70ca2ba9",
   "metadata": {},
   "source": [
    "## 🧹 Cleaning the `order_payments` Dataset (3)\n",
    "\n",
    "Next, I'll clean the `order_payments` dataset to ensure it's ready for analysis.\n",
    "\n",
    "This dataset contains payment-related information for each order, including:\n",
    "- Payment type for example: credit card, boleto..\n",
    "- Number of installments\n",
    "- Amount paid\n",
    "\n",
    "I'll start by inspecting the data structure, checking for null values, and identifying any duplicates or inconsistencies."
   ]
  },
  {
   "cell_type": "code",
   "execution_count": 90,
   "id": "ace83b8b",
   "metadata": {},
   "outputs": [],
   "source": [
    "order_payments = dfs['order_payments']"
   ]
  },
  {
   "cell_type": "code",
   "execution_count": 92,
   "id": "006e599a",
   "metadata": {},
   "outputs": [
    {
     "name": "stdout",
     "output_type": "stream",
     "text": [
      "<class 'pandas.core.frame.DataFrame'>\n",
      "RangeIndex: 103886 entries, 0 to 103885\n",
      "Data columns (total 5 columns):\n",
      " #   Column                Non-Null Count   Dtype  \n",
      "---  ------                --------------   -----  \n",
      " 0   order_id              103886 non-null  object \n",
      " 1   payment_sequential    103886 non-null  int64  \n",
      " 2   payment_type          103886 non-null  object \n",
      " 3   payment_installments  103886 non-null  int64  \n",
      " 4   payment_value         103886 non-null  float64\n",
      "dtypes: float64(1), int64(2), object(2)\n",
      "memory usage: 4.0+ MB\n"
     ]
    },
    {
     "data": {
      "text/html": [
       "<div>\n",
       "<style scoped>\n",
       "    .dataframe tbody tr th:only-of-type {\n",
       "        vertical-align: middle;\n",
       "    }\n",
       "\n",
       "    .dataframe tbody tr th {\n",
       "        vertical-align: top;\n",
       "    }\n",
       "\n",
       "    .dataframe thead th {\n",
       "        text-align: right;\n",
       "    }\n",
       "</style>\n",
       "<table border=\"1\" class=\"dataframe\">\n",
       "  <thead>\n",
       "    <tr style=\"text-align: right;\">\n",
       "      <th></th>\n",
       "      <th>order_id</th>\n",
       "      <th>payment_sequential</th>\n",
       "      <th>payment_type</th>\n",
       "      <th>payment_installments</th>\n",
       "      <th>payment_value</th>\n",
       "    </tr>\n",
       "  </thead>\n",
       "  <tbody>\n",
       "    <tr>\n",
       "      <th>0</th>\n",
       "      <td>b81ef226f3fe1789b1e8b2acac839d17</td>\n",
       "      <td>1</td>\n",
       "      <td>credit_card</td>\n",
       "      <td>8</td>\n",
       "      <td>99.33</td>\n",
       "    </tr>\n",
       "    <tr>\n",
       "      <th>1</th>\n",
       "      <td>a9810da82917af2d9aefd1278f1dcfa0</td>\n",
       "      <td>1</td>\n",
       "      <td>credit_card</td>\n",
       "      <td>1</td>\n",
       "      <td>24.39</td>\n",
       "    </tr>\n",
       "    <tr>\n",
       "      <th>2</th>\n",
       "      <td>25e8ea4e93396b6fa0d3dd708e76c1bd</td>\n",
       "      <td>1</td>\n",
       "      <td>credit_card</td>\n",
       "      <td>1</td>\n",
       "      <td>65.71</td>\n",
       "    </tr>\n",
       "    <tr>\n",
       "      <th>3</th>\n",
       "      <td>ba78997921bbcdc1373bb41e913ab953</td>\n",
       "      <td>1</td>\n",
       "      <td>credit_card</td>\n",
       "      <td>8</td>\n",
       "      <td>107.78</td>\n",
       "    </tr>\n",
       "    <tr>\n",
       "      <th>4</th>\n",
       "      <td>42fdf880ba16b47b59251dd489d4441a</td>\n",
       "      <td>1</td>\n",
       "      <td>credit_card</td>\n",
       "      <td>2</td>\n",
       "      <td>128.45</td>\n",
       "    </tr>\n",
       "  </tbody>\n",
       "</table>\n",
       "</div>"
      ],
      "text/plain": [
       "                           order_id  payment_sequential payment_type  \\\n",
       "0  b81ef226f3fe1789b1e8b2acac839d17                   1  credit_card   \n",
       "1  a9810da82917af2d9aefd1278f1dcfa0                   1  credit_card   \n",
       "2  25e8ea4e93396b6fa0d3dd708e76c1bd                   1  credit_card   \n",
       "3  ba78997921bbcdc1373bb41e913ab953                   1  credit_card   \n",
       "4  42fdf880ba16b47b59251dd489d4441a                   1  credit_card   \n",
       "\n",
       "   payment_installments  payment_value  \n",
       "0                     8          99.33  \n",
       "1                     1          24.39  \n",
       "2                     1          65.71  \n",
       "3                     8         107.78  \n",
       "4                     2         128.45  "
      ]
     },
     "execution_count": 92,
     "metadata": {},
     "output_type": "execute_result"
    }
   ],
   "source": [
    "order_payments.info()\n",
    "order_payments.isnull().sum()\n",
    "order_payments.head()"
   ]
  },
  {
   "cell_type": "markdown",
   "id": "4ecf858d",
   "metadata": {},
   "source": [
    "#### Initial Observations:\n",
    "- No missing values were found.\n",
    "- Data types are appropriate.\n",
    "- Some orders appear multiple times, reflecting multiple payments or installments.\n",
    "\n",
    "#### Planned Cleaning Steps:\n",
    "1. Check for duplicate rows.\n",
    "2. Check for duplicated `order_id`s to understand multi-payment behavior.\n",
    "3. Inspect unique values in `payment_type` for consistency.\n",
    "4. Explore extreme or zero values in `payment_value`.\n",
    "5. Standardize column names for consistency.\n"
   ]
  },
  {
   "cell_type": "code",
   "execution_count": 94,
   "id": "25d92f05",
   "metadata": {},
   "outputs": [
    {
     "data": {
      "text/plain": [
       "4446"
      ]
     },
     "execution_count": 94,
     "metadata": {},
     "output_type": "execute_result"
    }
   ],
   "source": [
    "order_payments.duplicated().sum()\n",
    "order_payments['order_id'].duplicated().sum()"
   ]
  },
  {
   "cell_type": "code",
   "execution_count": 98,
   "id": "fc177722",
   "metadata": {},
   "outputs": [
    {
     "data": {
      "text/plain": [
       "fa65dad1b0e818e3ccc5cb0e39231352    29\n",
       "ccf804e764ed5650cd8759557269dc13    26\n",
       "285c2e15bebd4ac83635ccc563dc71f4    22\n",
       "895ab968e7bb0d5659d16cd74cd1650c    21\n",
       "fedcd9f7ccdc8cba3a18defedd1a5547    19\n",
       "Name: order_id, dtype: int64"
      ]
     },
     "execution_count": 98,
     "metadata": {},
     "output_type": "execute_result"
    }
   ],
   "source": [
    "# Find order_ids that appear more than once\n",
    "order_payments['order_id'].value_counts().loc[lambda x: x > 1].head(5)"
   ]
  },
  {
   "cell_type": "code",
   "execution_count": 100,
   "id": "908d8e0e",
   "metadata": {},
   "outputs": [
    {
     "data": {
      "text/html": [
       "<div>\n",
       "<style scoped>\n",
       "    .dataframe tbody tr th:only-of-type {\n",
       "        vertical-align: middle;\n",
       "    }\n",
       "\n",
       "    .dataframe tbody tr th {\n",
       "        vertical-align: top;\n",
       "    }\n",
       "\n",
       "    .dataframe thead th {\n",
       "        text-align: right;\n",
       "    }\n",
       "</style>\n",
       "<table border=\"1\" class=\"dataframe\">\n",
       "  <thead>\n",
       "    <tr style=\"text-align: right;\">\n",
       "      <th></th>\n",
       "      <th>order_id</th>\n",
       "      <th>payment_sequential</th>\n",
       "      <th>payment_type</th>\n",
       "      <th>payment_installments</th>\n",
       "      <th>payment_value</th>\n",
       "    </tr>\n",
       "  </thead>\n",
       "  <tbody>\n",
       "    <tr>\n",
       "      <th>4885</th>\n",
       "      <td>fa65dad1b0e818e3ccc5cb0e39231352</td>\n",
       "      <td>27</td>\n",
       "      <td>voucher</td>\n",
       "      <td>1</td>\n",
       "      <td>66.02</td>\n",
       "    </tr>\n",
       "    <tr>\n",
       "      <th>9985</th>\n",
       "      <td>fa65dad1b0e818e3ccc5cb0e39231352</td>\n",
       "      <td>4</td>\n",
       "      <td>voucher</td>\n",
       "      <td>1</td>\n",
       "      <td>29.16</td>\n",
       "    </tr>\n",
       "    <tr>\n",
       "      <th>14321</th>\n",
       "      <td>fa65dad1b0e818e3ccc5cb0e39231352</td>\n",
       "      <td>1</td>\n",
       "      <td>voucher</td>\n",
       "      <td>1</td>\n",
       "      <td>3.71</td>\n",
       "    </tr>\n",
       "    <tr>\n",
       "      <th>17274</th>\n",
       "      <td>fa65dad1b0e818e3ccc5cb0e39231352</td>\n",
       "      <td>9</td>\n",
       "      <td>voucher</td>\n",
       "      <td>1</td>\n",
       "      <td>1.08</td>\n",
       "    </tr>\n",
       "    <tr>\n",
       "      <th>19565</th>\n",
       "      <td>fa65dad1b0e818e3ccc5cb0e39231352</td>\n",
       "      <td>10</td>\n",
       "      <td>voucher</td>\n",
       "      <td>1</td>\n",
       "      <td>12.86</td>\n",
       "    </tr>\n",
       "    <tr>\n",
       "      <th>23074</th>\n",
       "      <td>fa65dad1b0e818e3ccc5cb0e39231352</td>\n",
       "      <td>2</td>\n",
       "      <td>voucher</td>\n",
       "      <td>1</td>\n",
       "      <td>8.51</td>\n",
       "    </tr>\n",
       "    <tr>\n",
       "      <th>24879</th>\n",
       "      <td>fa65dad1b0e818e3ccc5cb0e39231352</td>\n",
       "      <td>25</td>\n",
       "      <td>voucher</td>\n",
       "      <td>1</td>\n",
       "      <td>3.68</td>\n",
       "    </tr>\n",
       "    <tr>\n",
       "      <th>28330</th>\n",
       "      <td>fa65dad1b0e818e3ccc5cb0e39231352</td>\n",
       "      <td>5</td>\n",
       "      <td>voucher</td>\n",
       "      <td>1</td>\n",
       "      <td>0.66</td>\n",
       "    </tr>\n",
       "    <tr>\n",
       "      <th>29648</th>\n",
       "      <td>fa65dad1b0e818e3ccc5cb0e39231352</td>\n",
       "      <td>6</td>\n",
       "      <td>voucher</td>\n",
       "      <td>1</td>\n",
       "      <td>5.02</td>\n",
       "    </tr>\n",
       "    <tr>\n",
       "      <th>32519</th>\n",
       "      <td>fa65dad1b0e818e3ccc5cb0e39231352</td>\n",
       "      <td>11</td>\n",
       "      <td>voucher</td>\n",
       "      <td>1</td>\n",
       "      <td>4.03</td>\n",
       "    </tr>\n",
       "    <tr>\n",
       "      <th>36822</th>\n",
       "      <td>fa65dad1b0e818e3ccc5cb0e39231352</td>\n",
       "      <td>14</td>\n",
       "      <td>voucher</td>\n",
       "      <td>1</td>\n",
       "      <td>0.00</td>\n",
       "    </tr>\n",
       "    <tr>\n",
       "      <th>39108</th>\n",
       "      <td>fa65dad1b0e818e3ccc5cb0e39231352</td>\n",
       "      <td>29</td>\n",
       "      <td>voucher</td>\n",
       "      <td>1</td>\n",
       "      <td>19.26</td>\n",
       "    </tr>\n",
       "    <tr>\n",
       "      <th>39111</th>\n",
       "      <td>fa65dad1b0e818e3ccc5cb0e39231352</td>\n",
       "      <td>28</td>\n",
       "      <td>voucher</td>\n",
       "      <td>1</td>\n",
       "      <td>29.05</td>\n",
       "    </tr>\n",
       "    <tr>\n",
       "      <th>63369</th>\n",
       "      <td>fa65dad1b0e818e3ccc5cb0e39231352</td>\n",
       "      <td>15</td>\n",
       "      <td>voucher</td>\n",
       "      <td>1</td>\n",
       "      <td>14.04</td>\n",
       "    </tr>\n",
       "    <tr>\n",
       "      <th>65641</th>\n",
       "      <td>fa65dad1b0e818e3ccc5cb0e39231352</td>\n",
       "      <td>3</td>\n",
       "      <td>voucher</td>\n",
       "      <td>1</td>\n",
       "      <td>2.95</td>\n",
       "    </tr>\n",
       "    <tr>\n",
       "      <th>68853</th>\n",
       "      <td>fa65dad1b0e818e3ccc5cb0e39231352</td>\n",
       "      <td>8</td>\n",
       "      <td>voucher</td>\n",
       "      <td>1</td>\n",
       "      <td>26.02</td>\n",
       "    </tr>\n",
       "    <tr>\n",
       "      <th>73537</th>\n",
       "      <td>fa65dad1b0e818e3ccc5cb0e39231352</td>\n",
       "      <td>12</td>\n",
       "      <td>voucher</td>\n",
       "      <td>1</td>\n",
       "      <td>3.60</td>\n",
       "    </tr>\n",
       "    <tr>\n",
       "      <th>74239</th>\n",
       "      <td>fa65dad1b0e818e3ccc5cb0e39231352</td>\n",
       "      <td>21</td>\n",
       "      <td>voucher</td>\n",
       "      <td>1</td>\n",
       "      <td>4.11</td>\n",
       "    </tr>\n",
       "    <tr>\n",
       "      <th>74721</th>\n",
       "      <td>fa65dad1b0e818e3ccc5cb0e39231352</td>\n",
       "      <td>19</td>\n",
       "      <td>voucher</td>\n",
       "      <td>1</td>\n",
       "      <td>5.02</td>\n",
       "    </tr>\n",
       "    <tr>\n",
       "      <th>77885</th>\n",
       "      <td>fa65dad1b0e818e3ccc5cb0e39231352</td>\n",
       "      <td>13</td>\n",
       "      <td>voucher</td>\n",
       "      <td>1</td>\n",
       "      <td>0.00</td>\n",
       "    </tr>\n",
       "    <tr>\n",
       "      <th>78050</th>\n",
       "      <td>fa65dad1b0e818e3ccc5cb0e39231352</td>\n",
       "      <td>16</td>\n",
       "      <td>voucher</td>\n",
       "      <td>1</td>\n",
       "      <td>12.86</td>\n",
       "    </tr>\n",
       "    <tr>\n",
       "      <th>79587</th>\n",
       "      <td>fa65dad1b0e818e3ccc5cb0e39231352</td>\n",
       "      <td>26</td>\n",
       "      <td>voucher</td>\n",
       "      <td>1</td>\n",
       "      <td>28.27</td>\n",
       "    </tr>\n",
       "    <tr>\n",
       "      <th>79670</th>\n",
       "      <td>fa65dad1b0e818e3ccc5cb0e39231352</td>\n",
       "      <td>17</td>\n",
       "      <td>voucher</td>\n",
       "      <td>1</td>\n",
       "      <td>3.72</td>\n",
       "    </tr>\n",
       "    <tr>\n",
       "      <th>80321</th>\n",
       "      <td>fa65dad1b0e818e3ccc5cb0e39231352</td>\n",
       "      <td>18</td>\n",
       "      <td>voucher</td>\n",
       "      <td>1</td>\n",
       "      <td>0.73</td>\n",
       "    </tr>\n",
       "    <tr>\n",
       "      <th>82593</th>\n",
       "      <td>fa65dad1b0e818e3ccc5cb0e39231352</td>\n",
       "      <td>7</td>\n",
       "      <td>voucher</td>\n",
       "      <td>1</td>\n",
       "      <td>0.32</td>\n",
       "    </tr>\n",
       "    <tr>\n",
       "      <th>85166</th>\n",
       "      <td>fa65dad1b0e818e3ccc5cb0e39231352</td>\n",
       "      <td>23</td>\n",
       "      <td>voucher</td>\n",
       "      <td>1</td>\n",
       "      <td>18.86</td>\n",
       "    </tr>\n",
       "    <tr>\n",
       "      <th>93337</th>\n",
       "      <td>fa65dad1b0e818e3ccc5cb0e39231352</td>\n",
       "      <td>20</td>\n",
       "      <td>voucher</td>\n",
       "      <td>1</td>\n",
       "      <td>150.00</td>\n",
       "    </tr>\n",
       "    <tr>\n",
       "      <th>99213</th>\n",
       "      <td>fa65dad1b0e818e3ccc5cb0e39231352</td>\n",
       "      <td>24</td>\n",
       "      <td>voucher</td>\n",
       "      <td>1</td>\n",
       "      <td>0.42</td>\n",
       "    </tr>\n",
       "    <tr>\n",
       "      <th>100606</th>\n",
       "      <td>fa65dad1b0e818e3ccc5cb0e39231352</td>\n",
       "      <td>22</td>\n",
       "      <td>voucher</td>\n",
       "      <td>1</td>\n",
       "      <td>4.03</td>\n",
       "    </tr>\n",
       "  </tbody>\n",
       "</table>\n",
       "</div>"
      ],
      "text/plain": [
       "                                order_id  payment_sequential payment_type  \\\n",
       "4885    fa65dad1b0e818e3ccc5cb0e39231352                  27      voucher   \n",
       "9985    fa65dad1b0e818e3ccc5cb0e39231352                   4      voucher   \n",
       "14321   fa65dad1b0e818e3ccc5cb0e39231352                   1      voucher   \n",
       "17274   fa65dad1b0e818e3ccc5cb0e39231352                   9      voucher   \n",
       "19565   fa65dad1b0e818e3ccc5cb0e39231352                  10      voucher   \n",
       "23074   fa65dad1b0e818e3ccc5cb0e39231352                   2      voucher   \n",
       "24879   fa65dad1b0e818e3ccc5cb0e39231352                  25      voucher   \n",
       "28330   fa65dad1b0e818e3ccc5cb0e39231352                   5      voucher   \n",
       "29648   fa65dad1b0e818e3ccc5cb0e39231352                   6      voucher   \n",
       "32519   fa65dad1b0e818e3ccc5cb0e39231352                  11      voucher   \n",
       "36822   fa65dad1b0e818e3ccc5cb0e39231352                  14      voucher   \n",
       "39108   fa65dad1b0e818e3ccc5cb0e39231352                  29      voucher   \n",
       "39111   fa65dad1b0e818e3ccc5cb0e39231352                  28      voucher   \n",
       "63369   fa65dad1b0e818e3ccc5cb0e39231352                  15      voucher   \n",
       "65641   fa65dad1b0e818e3ccc5cb0e39231352                   3      voucher   \n",
       "68853   fa65dad1b0e818e3ccc5cb0e39231352                   8      voucher   \n",
       "73537   fa65dad1b0e818e3ccc5cb0e39231352                  12      voucher   \n",
       "74239   fa65dad1b0e818e3ccc5cb0e39231352                  21      voucher   \n",
       "74721   fa65dad1b0e818e3ccc5cb0e39231352                  19      voucher   \n",
       "77885   fa65dad1b0e818e3ccc5cb0e39231352                  13      voucher   \n",
       "78050   fa65dad1b0e818e3ccc5cb0e39231352                  16      voucher   \n",
       "79587   fa65dad1b0e818e3ccc5cb0e39231352                  26      voucher   \n",
       "79670   fa65dad1b0e818e3ccc5cb0e39231352                  17      voucher   \n",
       "80321   fa65dad1b0e818e3ccc5cb0e39231352                  18      voucher   \n",
       "82593   fa65dad1b0e818e3ccc5cb0e39231352                   7      voucher   \n",
       "85166   fa65dad1b0e818e3ccc5cb0e39231352                  23      voucher   \n",
       "93337   fa65dad1b0e818e3ccc5cb0e39231352                  20      voucher   \n",
       "99213   fa65dad1b0e818e3ccc5cb0e39231352                  24      voucher   \n",
       "100606  fa65dad1b0e818e3ccc5cb0e39231352                  22      voucher   \n",
       "\n",
       "        payment_installments  payment_value  \n",
       "4885                       1          66.02  \n",
       "9985                       1          29.16  \n",
       "14321                      1           3.71  \n",
       "17274                      1           1.08  \n",
       "19565                      1          12.86  \n",
       "23074                      1           8.51  \n",
       "24879                      1           3.68  \n",
       "28330                      1           0.66  \n",
       "29648                      1           5.02  \n",
       "32519                      1           4.03  \n",
       "36822                      1           0.00  \n",
       "39108                      1          19.26  \n",
       "39111                      1          29.05  \n",
       "63369                      1          14.04  \n",
       "65641                      1           2.95  \n",
       "68853                      1          26.02  \n",
       "73537                      1           3.60  \n",
       "74239                      1           4.11  \n",
       "74721                      1           5.02  \n",
       "77885                      1           0.00  \n",
       "78050                      1          12.86  \n",
       "79587                      1          28.27  \n",
       "79670                      1           3.72  \n",
       "80321                      1           0.73  \n",
       "82593                      1           0.32  \n",
       "85166                      1          18.86  \n",
       "93337                      1         150.00  \n",
       "99213                      1           0.42  \n",
       "100606                     1           4.03  "
      ]
     },
     "execution_count": 100,
     "metadata": {},
     "output_type": "execute_result"
    }
   ],
   "source": [
    "order_payments[order_payments['order_id'] == 'fa65dad1b0e818e3ccc5cb0e39231352']"
   ]
  },
  {
   "cell_type": "code",
   "execution_count": 102,
   "id": "c5bd34c5",
   "metadata": {},
   "outputs": [
    {
     "data": {
      "text/plain": [
       "credit_card    76795\n",
       "boleto         19784\n",
       "voucher         5775\n",
       "debit_card      1529\n",
       "not_defined        3\n",
       "Name: payment_type, dtype: int64"
      ]
     },
     "execution_count": 102,
     "metadata": {},
     "output_type": "execute_result"
    }
   ],
   "source": [
    "order_payments['payment_type'].value_counts()"
   ]
  },
  {
   "cell_type": "code",
   "execution_count": 106,
   "id": "7d4b1710",
   "metadata": {},
   "outputs": [
    {
     "data": {
      "text/html": [
       "<div>\n",
       "<style scoped>\n",
       "    .dataframe tbody tr th:only-of-type {\n",
       "        vertical-align: middle;\n",
       "    }\n",
       "\n",
       "    .dataframe tbody tr th {\n",
       "        vertical-align: top;\n",
       "    }\n",
       "\n",
       "    .dataframe thead th {\n",
       "        text-align: right;\n",
       "    }\n",
       "</style>\n",
       "<table border=\"1\" class=\"dataframe\">\n",
       "  <thead>\n",
       "    <tr style=\"text-align: right;\">\n",
       "      <th></th>\n",
       "      <th>order_id</th>\n",
       "      <th>payment_sequential</th>\n",
       "      <th>payment_type</th>\n",
       "      <th>payment_installments</th>\n",
       "      <th>payment_value</th>\n",
       "    </tr>\n",
       "  </thead>\n",
       "  <tbody>\n",
       "  </tbody>\n",
       "</table>\n",
       "</div>"
      ],
      "text/plain": [
       "Empty DataFrame\n",
       "Columns: [order_id, payment_sequential, payment_type, payment_installments, payment_value]\n",
       "Index: []"
      ]
     },
     "execution_count": 106,
     "metadata": {},
     "output_type": "execute_result"
    }
   ],
   "source": [
    "order_payments[order_payments['payment_type'] == 'not_defined']"
   ]
  },
  {
   "cell_type": "code",
   "execution_count": null,
   "id": "62f3d402",
   "metadata": {},
   "outputs": [],
   "source": [
    "order_payments = order_payments[order_payments['payment_type'] != 'not_defined']"
   ]
  },
  {
   "cell_type": "code",
   "execution_count": null,
   "id": "023879c0",
   "metadata": {},
   "outputs": [],
   "source": []
  },
  {
   "cell_type": "markdown",
   "id": "50076b60",
   "metadata": {},
   "source": [
    "### Cleaning the `order_payments` Dataset\n",
    "\n",
    "In this section, I cleaned the `order_payments` dataset by:\n",
    "\n",
    "1. **Inspecting for duplicates**:\n",
    "   - Found and confirmed multiple `order_id` entries are valid (installment payments).\n",
    "   - Kept all rows, as each row represents part of a legitimate payment sequence.\n",
    "\n",
    "2. **Verifying column values**:\n",
    "   - Confirmed no null values exist.\n",
    "   - Checked for unexpected `payment_type` values and found 3 rows labeled `'not_defined'` — all with a `payment_value` of 0.\n",
    "   - These were likely invalid records and were dropped.\n",
    "\n",
    "This dataset is now cleaned and ready for analysis or merging with others."
   ]
  },
  {
   "cell_type": "code",
   "execution_count": 110,
   "id": "0020e8bf",
   "metadata": {},
   "outputs": [],
   "source": [
    "order_payments.to_csv(\"order_payments_1.csv\", index=False)"
   ]
  },
  {
   "cell_type": "markdown",
   "id": "ec28062a",
   "metadata": {},
   "source": [
    "## Cleaning the `order_items` Dataset (4)\n",
    "\n",
    "Now clean the `order_items` dataset, which details individual items in each order. This dataset is crucial for analyzing product-level trends, pricing, and revenue calculations.\n",
    "\n",
    "I'll begin by inspecting the dataset for:\n",
    "- Missing values\n",
    "- Data types and formatting\n",
    "- Duplicate entries or inconsistencies\n",
    "\n",
    "Let’s load the data and explore its structure."
   ]
  },
  {
   "cell_type": "code",
   "execution_count": 33,
   "id": "072792f8",
   "metadata": {},
   "outputs": [
    {
     "name": "stdout",
     "output_type": "stream",
     "text": [
      "<class 'pandas.core.frame.DataFrame'>\n",
      "RangeIndex: 112650 entries, 0 to 112649\n",
      "Data columns (total 7 columns):\n",
      " #   Column               Non-Null Count   Dtype  \n",
      "---  ------               --------------   -----  \n",
      " 0   order_id             112650 non-null  object \n",
      " 1   order_item_id        112650 non-null  int64  \n",
      " 2   product_id           112650 non-null  object \n",
      " 3   seller_id            112650 non-null  object \n",
      " 4   shipping_limit_date  112650 non-null  object \n",
      " 5   price                112650 non-null  float64\n",
      " 6   freight_value        112650 non-null  float64\n",
      "dtypes: float64(2), int64(1), object(4)\n",
      "memory usage: 6.0+ MB\n"
     ]
    },
    {
     "data": {
      "text/html": [
       "<div>\n",
       "<style scoped>\n",
       "    .dataframe tbody tr th:only-of-type {\n",
       "        vertical-align: middle;\n",
       "    }\n",
       "\n",
       "    .dataframe tbody tr th {\n",
       "        vertical-align: top;\n",
       "    }\n",
       "\n",
       "    .dataframe thead th {\n",
       "        text-align: right;\n",
       "    }\n",
       "</style>\n",
       "<table border=\"1\" class=\"dataframe\">\n",
       "  <thead>\n",
       "    <tr style=\"text-align: right;\">\n",
       "      <th></th>\n",
       "      <th>order_id</th>\n",
       "      <th>order_item_id</th>\n",
       "      <th>product_id</th>\n",
       "      <th>seller_id</th>\n",
       "      <th>shipping_limit_date</th>\n",
       "      <th>price</th>\n",
       "      <th>freight_value</th>\n",
       "    </tr>\n",
       "  </thead>\n",
       "  <tbody>\n",
       "    <tr>\n",
       "      <th>0</th>\n",
       "      <td>00010242fe8c5a6d1ba2dd792cb16214</td>\n",
       "      <td>1</td>\n",
       "      <td>4244733e06e7ecb4970a6e2683c13e61</td>\n",
       "      <td>48436dade18ac8b2bce089ec2a041202</td>\n",
       "      <td>2017-09-19 09:45:35</td>\n",
       "      <td>58.90</td>\n",
       "      <td>13.29</td>\n",
       "    </tr>\n",
       "    <tr>\n",
       "      <th>1</th>\n",
       "      <td>00018f77f2f0320c557190d7a144bdd3</td>\n",
       "      <td>1</td>\n",
       "      <td>e5f2d52b802189ee658865ca93d83a8f</td>\n",
       "      <td>dd7ddc04e1b6c2c614352b383efe2d36</td>\n",
       "      <td>2017-05-03 11:05:13</td>\n",
       "      <td>239.90</td>\n",
       "      <td>19.93</td>\n",
       "    </tr>\n",
       "    <tr>\n",
       "      <th>2</th>\n",
       "      <td>000229ec398224ef6ca0657da4fc703e</td>\n",
       "      <td>1</td>\n",
       "      <td>c777355d18b72b67abbeef9df44fd0fd</td>\n",
       "      <td>5b51032eddd242adc84c38acab88f23d</td>\n",
       "      <td>2018-01-18 14:48:30</td>\n",
       "      <td>199.00</td>\n",
       "      <td>17.87</td>\n",
       "    </tr>\n",
       "    <tr>\n",
       "      <th>3</th>\n",
       "      <td>00024acbcdf0a6daa1e931b038114c75</td>\n",
       "      <td>1</td>\n",
       "      <td>7634da152a4610f1595efa32f14722fc</td>\n",
       "      <td>9d7a1d34a5052409006425275ba1c2b4</td>\n",
       "      <td>2018-08-15 10:10:18</td>\n",
       "      <td>12.99</td>\n",
       "      <td>12.79</td>\n",
       "    </tr>\n",
       "    <tr>\n",
       "      <th>4</th>\n",
       "      <td>00042b26cf59d7ce69dfabb4e55b4fd9</td>\n",
       "      <td>1</td>\n",
       "      <td>ac6c3623068f30de03045865e4e10089</td>\n",
       "      <td>df560393f3a51e74553ab94004ba5c87</td>\n",
       "      <td>2017-02-13 13:57:51</td>\n",
       "      <td>199.90</td>\n",
       "      <td>18.14</td>\n",
       "    </tr>\n",
       "  </tbody>\n",
       "</table>\n",
       "</div>"
      ],
      "text/plain": [
       "                           order_id  order_item_id  \\\n",
       "0  00010242fe8c5a6d1ba2dd792cb16214              1   \n",
       "1  00018f77f2f0320c557190d7a144bdd3              1   \n",
       "2  000229ec398224ef6ca0657da4fc703e              1   \n",
       "3  00024acbcdf0a6daa1e931b038114c75              1   \n",
       "4  00042b26cf59d7ce69dfabb4e55b4fd9              1   \n",
       "\n",
       "                         product_id                         seller_id  \\\n",
       "0  4244733e06e7ecb4970a6e2683c13e61  48436dade18ac8b2bce089ec2a041202   \n",
       "1  e5f2d52b802189ee658865ca93d83a8f  dd7ddc04e1b6c2c614352b383efe2d36   \n",
       "2  c777355d18b72b67abbeef9df44fd0fd  5b51032eddd242adc84c38acab88f23d   \n",
       "3  7634da152a4610f1595efa32f14722fc  9d7a1d34a5052409006425275ba1c2b4   \n",
       "4  ac6c3623068f30de03045865e4e10089  df560393f3a51e74553ab94004ba5c87   \n",
       "\n",
       "   shipping_limit_date   price  freight_value  \n",
       "0  2017-09-19 09:45:35   58.90          13.29  \n",
       "1  2017-05-03 11:05:13  239.90          19.93  \n",
       "2  2018-01-18 14:48:30  199.00          17.87  \n",
       "3  2018-08-15 10:10:18   12.99          12.79  \n",
       "4  2017-02-13 13:57:51  199.90          18.14  "
      ]
     },
     "execution_count": 33,
     "metadata": {},
     "output_type": "execute_result"
    }
   ],
   "source": [
    "order_items = dfs['order_items']\n",
    "order_items.info()\n",
    "order_items.isnull().sum()\n",
    "order_items.head()"
   ]
  },
  {
   "cell_type": "markdown",
   "id": "5c833e46",
   "metadata": {},
   "source": [
    "🧹 Cleaning the order_items Dataset\n",
    "I'll now clean the order_items dataset, which contains detailed information about individual items in customer orders. This table is crucial for understanding pricing, shipping timelines, and the relationship between products, sellers, and orders.\n",
    "\n",
    "🛠 Steps to clean:\n",
    "\n",
    "Convert shipping_limit_date to datetime for easier date comparisons.\n",
    "Check for and remove duplicate rows if any.\n",
    "(Optional) Rename or standardize column names (though current naming is consistent and clear).\n"
   ]
  },
  {
   "cell_type": "code",
   "execution_count": 34,
   "id": "94c8dab3",
   "metadata": {},
   "outputs": [],
   "source": [
    "order_items['shipping_limit_date'] = pd.to_datetime(order_items['shipping_limit_date'], errors='coerce')"
   ]
  },
  {
   "cell_type": "code",
   "execution_count": 35,
   "id": "8ce78ab5",
   "metadata": {},
   "outputs": [
    {
     "data": {
      "text/plain": [
       "0"
      ]
     },
     "execution_count": 35,
     "metadata": {},
     "output_type": "execute_result"
    }
   ],
   "source": [
    "order_items.duplicated().sum()"
   ]
  },
  {
   "cell_type": "code",
   "execution_count": 36,
   "id": "42e6b6ee",
   "metadata": {},
   "outputs": [
    {
     "data": {
      "text/plain": [
       "13984"
      ]
     },
     "execution_count": 36,
     "metadata": {},
     "output_type": "execute_result"
    }
   ],
   "source": [
    "order_items['order_id'].duplicated().sum()"
   ]
  },
  {
   "cell_type": "markdown",
   "id": "dee887e4",
   "metadata": {},
   "source": [
    "This simply means there are 13,984 orders with more than one item — not that there's something wrong.\n",
    "\n",
    "Each row in order_items represents one item in an order. So repeated order_ids are expected and normal."
   ]
  },
  {
   "cell_type": "code",
   "execution_count": 37,
   "id": "639e82b9",
   "metadata": {},
   "outputs": [
    {
     "data": {
      "text/plain": [
       "8272b63d03f5f79c56e9e4120aec44ef    21\n",
       "1b15974a0141d54e36626dca3fdc731a    20\n",
       "ab14fdcfbe524636d65ee38360e22ce8    20\n",
       "9ef13efd6949e4573a18964dd1bbe7f5    15\n",
       "428a2f660dc84138d969ccd69a0ab6d5    15\n",
       "9bdc4d4c71aa1de4606060929dee888c    14\n",
       "73c8ab38f07dc94389065f7eba4f297a    14\n",
       "37ee401157a3a0b28c9c6d0ed8c3b24b    13\n",
       "2c2a19b5703863c908512d135aa6accc    12\n",
       "c05d6a79e55da72ca780ce90364abed9    12\n",
       "Name: order_id, dtype: int64"
      ]
     },
     "execution_count": 37,
     "metadata": {},
     "output_type": "execute_result"
    }
   ],
   "source": [
    "order_items['order_id'].value_counts().head(10)"
   ]
  },
  {
   "cell_type": "code",
   "execution_count": 38,
   "id": "2b29e97f",
   "metadata": {},
   "outputs": [
    {
     "data": {
      "text/plain": [
       "1     88863\n",
       "2      7516\n",
       "3      1322\n",
       "4       505\n",
       "5       204\n",
       "6       198\n",
       "7        22\n",
       "8         8\n",
       "9         3\n",
       "10        8\n",
       "11        4\n",
       "12        5\n",
       "13        1\n",
       "14        2\n",
       "15        2\n",
       "20        2\n",
       "21        1\n",
       "Name: order_id, dtype: int64"
      ]
     },
     "execution_count": 38,
     "metadata": {},
     "output_type": "execute_result"
    }
   ],
   "source": [
    "order_items['order_id'].value_counts().value_counts().sort_index()"
   ]
  },
  {
   "cell_type": "markdown",
   "id": "cee074c4",
   "metadata": {},
   "source": [
    "Most orders with a single item = 88,863\n",
    "A small number had 2 to 5 items\n",
    "A few had more than 10 items\n",
    "The largest had 21 items"
   ]
  },
  {
   "cell_type": "code",
   "execution_count": 39,
   "id": "aa32a2d2",
   "metadata": {},
   "outputs": [],
   "source": [
    "order_items['shipping_limit_date'] = pd.to_datetime(order_items['shipping_limit_date'], errors='coerce')"
   ]
  },
  {
   "cell_type": "code",
   "execution_count": 40,
   "id": "4dc715ec",
   "metadata": {},
   "outputs": [
    {
     "data": {
      "text/plain": [
       "order_id               0\n",
       "order_item_id          0\n",
       "product_id             0\n",
       "seller_id              0\n",
       "shipping_limit_date    0\n",
       "price                  0\n",
       "freight_value          0\n",
       "dtype: int64"
      ]
     },
     "execution_count": 40,
     "metadata": {},
     "output_type": "execute_result"
    }
   ],
   "source": [
    "order_items.isnull().sum()"
   ]
  },
  {
   "cell_type": "code",
   "execution_count": 41,
   "id": "0db5bb9e",
   "metadata": {},
   "outputs": [],
   "source": [
    "order_items.to_csv(\"order_items_1.csv\", index=False)"
   ]
  },
  {
   "cell_type": "markdown",
   "id": "5eb28140",
   "metadata": {},
   "source": [
    "### Cleaning the `order_items` Dataset\n",
    "\n",
    "I cleaned the `order_items` dataset, which contains details about individual items within each order. This dataset is crucial for analyzing product-level sales, pricing, and delivery commitments.\n",
    "\n",
    "**Steps performed:**\n",
    "- Confirmed the dataset had **112,650 rows** and **7 columns**\n",
    "- Converted `shipping_limit_date` to datetime format for consistency\n",
    "- Checked for and found **no missing values**\n",
    "- Verified there were **no duplicate rows**\n",
    "- Observed that some `order_id`s repeated — which was expected since multiple products can belong to a single order\n",
    "\n",
    "The cleaned dataset was saved as `order_items_cleaned.csv`"
   ]
  },
  {
   "cell_type": "markdown",
   "id": "5f95f8c4",
   "metadata": {},
   "source": [
    "## Cleaning the `Customers` Dataset (5)\n",
    "\n",
    "I'll now clean the `customers` dataset, which contains customer IDs and location-related fields. This dataset is essential for connecting orders to customer regions and performing geographic analyses.\n",
    "\n",
    "#### Steps in the cleaning process:\n",
    "1. Inspect the structure and data types of the dataset.\n",
    "2. Check for missing values and duplicates.\n",
    "3. Standardize column names for consistency.\n",
    "4. Verify data integrity (e.g., unique `customer_id`, valid ZIP codes).\n",
    "5. Export the cleaned dataset.\n"
   ]
  },
  {
   "cell_type": "code",
   "execution_count": 16,
   "id": "72f123a5",
   "metadata": {},
   "outputs": [
    {
     "name": "stdout",
     "output_type": "stream",
     "text": [
      "<class 'pandas.core.frame.DataFrame'>\n",
      "RangeIndex: 99441 entries, 0 to 99440\n",
      "Data columns (total 5 columns):\n",
      " #   Column                    Non-Null Count  Dtype \n",
      "---  ------                    --------------  ----- \n",
      " 0   customer_id               99441 non-null  object\n",
      " 1   customer_unique_id        99441 non-null  object\n",
      " 2   customer_zip_code_prefix  99441 non-null  int64 \n",
      " 3   customer_city             99441 non-null  object\n",
      " 4   customer_state            99441 non-null  object\n",
      "dtypes: int64(1), object(4)\n",
      "memory usage: 3.8+ MB\n"
     ]
    }
   ],
   "source": [
    "customers = dfs[\"customers\"]\n",
    "customers.info()"
   ]
  },
  {
   "cell_type": "code",
   "execution_count": 18,
   "id": "1e4bdf35",
   "metadata": {},
   "outputs": [
    {
     "data": {
      "text/plain": [
       "0"
      ]
     },
     "execution_count": 18,
     "metadata": {},
     "output_type": "execute_result"
    }
   ],
   "source": [
    "customers['customer_id'].duplicated().sum()"
   ]
  },
  {
   "cell_type": "code",
   "execution_count": 20,
   "id": "663d47a2",
   "metadata": {},
   "outputs": [
    {
     "data": {
      "text/plain": [
       "1     93099\n",
       "2      2745\n",
       "3       203\n",
       "4        30\n",
       "5         8\n",
       "6         6\n",
       "7         3\n",
       "9         1\n",
       "17        1\n",
       "Name: customer_id, dtype: int64"
      ]
     },
     "execution_count": 20,
     "metadata": {},
     "output_type": "execute_result"
    }
   ],
   "source": [
    "customers.groupby('customer_unique_id')['customer_id'].nunique().value_counts().sort_index()"
   ]
  },
  {
   "cell_type": "code",
   "execution_count": 22,
   "id": "4e73a11e",
   "metadata": {},
   "outputs": [
    {
     "data": {
      "text/html": [
       "<div>\n",
       "<style scoped>\n",
       "    .dataframe tbody tr th:only-of-type {\n",
       "        vertical-align: middle;\n",
       "    }\n",
       "\n",
       "    .dataframe tbody tr th {\n",
       "        vertical-align: top;\n",
       "    }\n",
       "\n",
       "    .dataframe thead th {\n",
       "        text-align: right;\n",
       "    }\n",
       "</style>\n",
       "<table border=\"1\" class=\"dataframe\">\n",
       "  <thead>\n",
       "    <tr style=\"text-align: right;\">\n",
       "      <th></th>\n",
       "      <th>customer_id</th>\n",
       "      <th>customer_unique_id</th>\n",
       "      <th>customer_zip_code_prefix</th>\n",
       "      <th>customer_city</th>\n",
       "      <th>customer_state</th>\n",
       "    </tr>\n",
       "  </thead>\n",
       "  <tbody>\n",
       "    <tr>\n",
       "      <th>0</th>\n",
       "      <td>06b8999e2fba1a1fbc88172c00ba8bc7</td>\n",
       "      <td>861eff4711a542e4b93843c6dd7febb0</td>\n",
       "      <td>14409</td>\n",
       "      <td>franca</td>\n",
       "      <td>SP</td>\n",
       "    </tr>\n",
       "    <tr>\n",
       "      <th>1</th>\n",
       "      <td>18955e83d337fd6b2def6b18a428ac77</td>\n",
       "      <td>290c77bc529b7ac935b93aa66c333dc3</td>\n",
       "      <td>9790</td>\n",
       "      <td>sao bernardo do campo</td>\n",
       "      <td>SP</td>\n",
       "    </tr>\n",
       "    <tr>\n",
       "      <th>2</th>\n",
       "      <td>4e7b3e00288586ebd08712fdd0374a03</td>\n",
       "      <td>060e732b5b29e8181a18229c7b0b2b5e</td>\n",
       "      <td>1151</td>\n",
       "      <td>sao paulo</td>\n",
       "      <td>SP</td>\n",
       "    </tr>\n",
       "    <tr>\n",
       "      <th>3</th>\n",
       "      <td>b2b6027bc5c5109e529d4dc6358b12c3</td>\n",
       "      <td>259dac757896d24d7702b9acbbff3f3c</td>\n",
       "      <td>8775</td>\n",
       "      <td>mogi das cruzes</td>\n",
       "      <td>SP</td>\n",
       "    </tr>\n",
       "    <tr>\n",
       "      <th>4</th>\n",
       "      <td>4f2d8ab171c80ec8364f7c12e35b23ad</td>\n",
       "      <td>345ecd01c38d18a9036ed96c73b8d066</td>\n",
       "      <td>13056</td>\n",
       "      <td>campinas</td>\n",
       "      <td>SP</td>\n",
       "    </tr>\n",
       "  </tbody>\n",
       "</table>\n",
       "</div>"
      ],
      "text/plain": [
       "                        customer_id                customer_unique_id  \\\n",
       "0  06b8999e2fba1a1fbc88172c00ba8bc7  861eff4711a542e4b93843c6dd7febb0   \n",
       "1  18955e83d337fd6b2def6b18a428ac77  290c77bc529b7ac935b93aa66c333dc3   \n",
       "2  4e7b3e00288586ebd08712fdd0374a03  060e732b5b29e8181a18229c7b0b2b5e   \n",
       "3  b2b6027bc5c5109e529d4dc6358b12c3  259dac757896d24d7702b9acbbff3f3c   \n",
       "4  4f2d8ab171c80ec8364f7c12e35b23ad  345ecd01c38d18a9036ed96c73b8d066   \n",
       "\n",
       "   customer_zip_code_prefix          customer_city customer_state  \n",
       "0                     14409                 franca             SP  \n",
       "1                      9790  sao bernardo do campo             SP  \n",
       "2                      1151              sao paulo             SP  \n",
       "3                      8775        mogi das cruzes             SP  \n",
       "4                     13056               campinas             SP  "
      ]
     },
     "execution_count": 22,
     "metadata": {},
     "output_type": "execute_result"
    }
   ],
   "source": [
    "customers.head()"
   ]
  },
  {
   "cell_type": "code",
   "execution_count": 24,
   "id": "a3666930",
   "metadata": {},
   "outputs": [
    {
     "data": {
      "text/html": [
       "<div>\n",
       "<style scoped>\n",
       "    .dataframe tbody tr th:only-of-type {\n",
       "        vertical-align: middle;\n",
       "    }\n",
       "\n",
       "    .dataframe tbody tr th {\n",
       "        vertical-align: top;\n",
       "    }\n",
       "\n",
       "    .dataframe thead th {\n",
       "        text-align: right;\n",
       "    }\n",
       "</style>\n",
       "<table border=\"1\" class=\"dataframe\">\n",
       "  <thead>\n",
       "    <tr style=\"text-align: right;\">\n",
       "      <th></th>\n",
       "      <th>customer_id</th>\n",
       "      <th>customer_unique_id</th>\n",
       "      <th>customer_zip_code_prefix</th>\n",
       "      <th>customer_city</th>\n",
       "      <th>customer_state</th>\n",
       "    </tr>\n",
       "  </thead>\n",
       "  <tbody>\n",
       "    <tr>\n",
       "      <th>33486</th>\n",
       "      <td>554c9763dcf0b0d75321961cf6c76d6c</td>\n",
       "      <td>cacb72306c8c51a817d1c7411fab5b7b</td>\n",
       "      <td>14740</td>\n",
       "      <td>viradouro</td>\n",
       "      <td>SP</td>\n",
       "    </tr>\n",
       "    <tr>\n",
       "      <th>83305</th>\n",
       "      <td>3411fc68c6539c73daf6c0e431297452</td>\n",
       "      <td>5c5280de1024ed0beca4f9939395730e</td>\n",
       "      <td>85877</td>\n",
       "      <td>sao miguel do iguacu</td>\n",
       "      <td>PR</td>\n",
       "    </tr>\n",
       "    <tr>\n",
       "      <th>61479</th>\n",
       "      <td>4498f5e3202243c58ae58247497599a5</td>\n",
       "      <td>7d5599666ef8e7e2fab7c3280e035705</td>\n",
       "      <td>46100</td>\n",
       "      <td>brumado</td>\n",
       "      <td>BA</td>\n",
       "    </tr>\n",
       "    <tr>\n",
       "      <th>54</th>\n",
       "      <td>8247b5583327ab8be19f96e1fb82f77b</td>\n",
       "      <td>d85547cd859833520b311b4458a14c1c</td>\n",
       "      <td>23970</td>\n",
       "      <td>parati</td>\n",
       "      <td>RJ</td>\n",
       "    </tr>\n",
       "    <tr>\n",
       "      <th>87757</th>\n",
       "      <td>5ce19e6c79a4a3d9de36c5cccf0eea3a</td>\n",
       "      <td>a87f3307c1b45456352b4d70632ecb05</td>\n",
       "      <td>65072</td>\n",
       "      <td>sao luis</td>\n",
       "      <td>MA</td>\n",
       "    </tr>\n",
       "    <tr>\n",
       "      <th>79383</th>\n",
       "      <td>fe8c2af8a8a466fb4131716fa9b3858a</td>\n",
       "      <td>6d2c0561abf4839164f41e365c17289c</td>\n",
       "      <td>19901</td>\n",
       "      <td>ourinhos</td>\n",
       "      <td>SP</td>\n",
       "    </tr>\n",
       "    <tr>\n",
       "      <th>65213</th>\n",
       "      <td>f729b7c28ff81599a20cea19508fe61f</td>\n",
       "      <td>a4a4ec2c68565e8d9815ff6e1cc13c8e</td>\n",
       "      <td>94450</td>\n",
       "      <td>viamao</td>\n",
       "      <td>RS</td>\n",
       "    </tr>\n",
       "    <tr>\n",
       "      <th>89193</th>\n",
       "      <td>3743de9608dba0325a5534fff7c367d6</td>\n",
       "      <td>3e5c928acf49c4b95e57af1f350d3493</td>\n",
       "      <td>69901</td>\n",
       "      <td>rio branco</td>\n",
       "      <td>AC</td>\n",
       "    </tr>\n",
       "    <tr>\n",
       "      <th>35377</th>\n",
       "      <td>af31ca29fb4190a0b56304428dbe90a9</td>\n",
       "      <td>75c60ae070be933925521fe45e739919</td>\n",
       "      <td>79570</td>\n",
       "      <td>aparecida do taboado</td>\n",
       "      <td>MS</td>\n",
       "    </tr>\n",
       "    <tr>\n",
       "      <th>60739</th>\n",
       "      <td>acf3b1b4ec4e2a6aa97acf15cfab1d5b</td>\n",
       "      <td>888bbf8be9eaceefedd820af2ddfb90f</td>\n",
       "      <td>24230</td>\n",
       "      <td>niteroi</td>\n",
       "      <td>RJ</td>\n",
       "    </tr>\n",
       "  </tbody>\n",
       "</table>\n",
       "</div>"
      ],
      "text/plain": [
       "                            customer_id                customer_unique_id  \\\n",
       "33486  554c9763dcf0b0d75321961cf6c76d6c  cacb72306c8c51a817d1c7411fab5b7b   \n",
       "83305  3411fc68c6539c73daf6c0e431297452  5c5280de1024ed0beca4f9939395730e   \n",
       "61479  4498f5e3202243c58ae58247497599a5  7d5599666ef8e7e2fab7c3280e035705   \n",
       "54     8247b5583327ab8be19f96e1fb82f77b  d85547cd859833520b311b4458a14c1c   \n",
       "87757  5ce19e6c79a4a3d9de36c5cccf0eea3a  a87f3307c1b45456352b4d70632ecb05   \n",
       "79383  fe8c2af8a8a466fb4131716fa9b3858a  6d2c0561abf4839164f41e365c17289c   \n",
       "65213  f729b7c28ff81599a20cea19508fe61f  a4a4ec2c68565e8d9815ff6e1cc13c8e   \n",
       "89193  3743de9608dba0325a5534fff7c367d6  3e5c928acf49c4b95e57af1f350d3493   \n",
       "35377  af31ca29fb4190a0b56304428dbe90a9  75c60ae070be933925521fe45e739919   \n",
       "60739  acf3b1b4ec4e2a6aa97acf15cfab1d5b  888bbf8be9eaceefedd820af2ddfb90f   \n",
       "\n",
       "       customer_zip_code_prefix         customer_city customer_state  \n",
       "33486                     14740             viradouro             SP  \n",
       "83305                     85877  sao miguel do iguacu             PR  \n",
       "61479                     46100               brumado             BA  \n",
       "54                        23970                parati             RJ  \n",
       "87757                     65072              sao luis             MA  \n",
       "79383                     19901              ourinhos             SP  \n",
       "65213                     94450                viamao             RS  \n",
       "89193                     69901            rio branco             AC  \n",
       "35377                     79570  aparecida do taboado             MS  \n",
       "60739                     24230               niteroi             RJ  "
      ]
     },
     "execution_count": 24,
     "metadata": {},
     "output_type": "execute_result"
    }
   ],
   "source": [
    "customers.sample(10)"
   ]
  },
  {
   "cell_type": "code",
   "execution_count": 26,
   "id": "dd6f9beb",
   "metadata": {},
   "outputs": [
    {
     "data": {
      "text/html": [
       "<div>\n",
       "<style scoped>\n",
       "    .dataframe tbody tr th:only-of-type {\n",
       "        vertical-align: middle;\n",
       "    }\n",
       "\n",
       "    .dataframe tbody tr th {\n",
       "        vertical-align: top;\n",
       "    }\n",
       "\n",
       "    .dataframe thead th {\n",
       "        text-align: right;\n",
       "    }\n",
       "</style>\n",
       "<table border=\"1\" class=\"dataframe\">\n",
       "  <thead>\n",
       "    <tr style=\"text-align: right;\">\n",
       "      <th></th>\n",
       "      <th>customer_city</th>\n",
       "      <th>customer_state</th>\n",
       "    </tr>\n",
       "  </thead>\n",
       "  <tbody>\n",
       "    <tr>\n",
       "      <th>0</th>\n",
       "      <td>brasileia</td>\n",
       "      <td>AC</td>\n",
       "    </tr>\n",
       "    <tr>\n",
       "      <th>1</th>\n",
       "      <td>cruzeiro do sul</td>\n",
       "      <td>AC</td>\n",
       "    </tr>\n",
       "    <tr>\n",
       "      <th>2</th>\n",
       "      <td>epitaciolandia</td>\n",
       "      <td>AC</td>\n",
       "    </tr>\n",
       "    <tr>\n",
       "      <th>3</th>\n",
       "      <td>manoel urbano</td>\n",
       "      <td>AC</td>\n",
       "    </tr>\n",
       "    <tr>\n",
       "      <th>4</th>\n",
       "      <td>porto acre</td>\n",
       "      <td>AC</td>\n",
       "    </tr>\n",
       "    <tr>\n",
       "      <th>...</th>\n",
       "      <td>...</td>\n",
       "      <td>...</td>\n",
       "    </tr>\n",
       "    <tr>\n",
       "      <th>4305</th>\n",
       "      <td>silvanopolis</td>\n",
       "      <td>TO</td>\n",
       "    </tr>\n",
       "    <tr>\n",
       "      <th>4306</th>\n",
       "      <td>sitio novo do tocantins</td>\n",
       "      <td>TO</td>\n",
       "    </tr>\n",
       "    <tr>\n",
       "      <th>4307</th>\n",
       "      <td>taguatinga</td>\n",
       "      <td>TO</td>\n",
       "    </tr>\n",
       "    <tr>\n",
       "      <th>4308</th>\n",
       "      <td>tocantinopolis</td>\n",
       "      <td>TO</td>\n",
       "    </tr>\n",
       "    <tr>\n",
       "      <th>4309</th>\n",
       "      <td>xambioa</td>\n",
       "      <td>TO</td>\n",
       "    </tr>\n",
       "  </tbody>\n",
       "</table>\n",
       "<p>4310 rows × 2 columns</p>\n",
       "</div>"
      ],
      "text/plain": [
       "                customer_city customer_state\n",
       "0                   brasileia             AC\n",
       "1             cruzeiro do sul             AC\n",
       "2              epitaciolandia             AC\n",
       "3               manoel urbano             AC\n",
       "4                  porto acre             AC\n",
       "...                       ...            ...\n",
       "4305             silvanopolis             TO\n",
       "4306  sitio novo do tocantins             TO\n",
       "4307               taguatinga             TO\n",
       "4308           tocantinopolis             TO\n",
       "4309                  xambioa             TO\n",
       "\n",
       "[4310 rows x 2 columns]"
      ]
     },
     "execution_count": 26,
     "metadata": {},
     "output_type": "execute_result"
    }
   ],
   "source": [
    "customers[['customer_city', 'customer_state']].drop_duplicates().sort_values(by=['customer_state', 'customer_city']).reset_index(drop=True)"
   ]
  },
  {
   "cell_type": "code",
   "execution_count": 28,
   "id": "17ff6744",
   "metadata": {},
   "outputs": [
    {
     "data": {
      "text/plain": [
       "AC       81\n",
       "AL      413\n",
       "AM      148\n",
       "AP       68\n",
       "BA     3380\n",
       "CE     1336\n",
       "DF     2140\n",
       "ES     2033\n",
       "GO     2020\n",
       "MA      747\n",
       "MG    11635\n",
       "MS      715\n",
       "MT      907\n",
       "PA      975\n",
       "PB      536\n",
       "PE     1652\n",
       "PI      495\n",
       "PR     5045\n",
       "RJ    12852\n",
       "RN      485\n",
       "RO      253\n",
       "RR       46\n",
       "RS     5466\n",
       "SC     3637\n",
       "SE      350\n",
       "SP    41746\n",
       "TO      280\n",
       "Name: customer_state, dtype: int64"
      ]
     },
     "execution_count": 28,
     "metadata": {},
     "output_type": "execute_result"
    }
   ],
   "source": [
    "customers['customer_state'].value_counts().sort_index()"
   ]
  },
  {
   "cell_type": "code",
   "execution_count": 29,
   "id": "ce68673b",
   "metadata": {},
   "outputs": [
    {
     "name": "stdout",
     "output_type": "stream",
     "text": [
      "SP    41746\n",
      "RJ    12852\n",
      "MG    11635\n",
      "RS     5466\n",
      "PR     5045\n",
      "SC     3637\n",
      "BA     3380\n",
      "DF     2140\n",
      "ES     2033\n",
      "GO     2020\n",
      "PE     1652\n",
      "CE     1336\n",
      "PA      975\n",
      "MT      907\n",
      "MA      747\n",
      "MS      715\n",
      "PB      536\n",
      "PI      495\n",
      "RN      485\n",
      "AL      413\n",
      "SE      350\n",
      "TO      280\n",
      "RO      253\n",
      "AM      148\n",
      "AC       81\n",
      "AP       68\n",
      "RR       46\n",
      "Name: customer_state, dtype: int64\n"
     ]
    }
   ],
   "source": [
    "# Count of customers by state\n",
    "state_counts = customers['customer_state'].value_counts()\n",
    "print(state_counts)"
   ]
  },
  {
   "cell_type": "code",
   "execution_count": 31,
   "id": "381e57ed",
   "metadata": {},
   "outputs": [],
   "source": [
    "customers.to_csv(\"customers_1.csv\", index=False)"
   ]
  },
  {
   "cell_type": "markdown",
   "id": "32b6a4d7",
   "metadata": {},
   "source": [
    "### Cleaning the `customers` Dataset\n",
    "\n",
    "I cleaned the `customers` dataset, which contains demographic and geographic information about the customers. This data helps identify unique customers, analyze regional distribution, and understand the customer base.\n",
    "\n",
    "#### Steps performed:\n",
    "- Confirmed the dataset had **99,441 rows** and **5 columns**\n",
    "- Verified that all data types were appropriate (`int64` and `object`)\n",
    "- Checked for and found **no missing values**\n",
    "- Verified there were **no duplicate `customer_id` values**\n",
    "- Investigated `customer_unique_id` and found expected repeats, indicating customers with multiple orders\n",
    "- Explored the geographical spread by viewing distinct combinations of `customer_city` and `customer_state`\n",
    "\n",
    "The cleaned dataset was saved as `customers_1.csv`.\n"
   ]
  },
  {
   "cell_type": "markdown",
   "id": "2bcec3a4",
   "metadata": {},
   "source": [
    "## Cleaning the `geolocation` Dataset(6)\n",
    "\n",
    "Next up is the `geolocation` dataset, which contains geographical data such as zip code prefixes, city names, state codes, and latitude/longitude coordinates. This dataset is useful for visualizing location distribution and potentially calculating distances for logistics analysis.\n",
    "\n",
    "**Steps I'll follow:**\n",
    "- Load and inspect the dataset\n",
    "- Check the number of rows and columns\n",
    "- Identify and handle any missing values\n",
    "- Check for duplicate rows and duplicates in key fields like `geolocation_zip_code_prefix`\n",
    "- Standardize column names if needed\n",
    "- Assess data consistency (e.g., verify coordinate ranges)\n",
    "- Export the cleaned dataset as `geolocation_1.csv`\n"
   ]
  },
  {
   "cell_type": "code",
   "execution_count": 43,
   "id": "bc3d9b6b",
   "metadata": {},
   "outputs": [
    {
     "name": "stdout",
     "output_type": "stream",
     "text": [
      "<class 'pandas.core.frame.DataFrame'>\n",
      "RangeIndex: 1000163 entries, 0 to 1000162\n",
      "Data columns (total 5 columns):\n",
      " #   Column                       Non-Null Count    Dtype  \n",
      "---  ------                       --------------    -----  \n",
      " 0   geolocation_zip_code_prefix  1000163 non-null  int64  \n",
      " 1   geolocation_lat              1000163 non-null  float64\n",
      " 2   geolocation_lng              1000163 non-null  float64\n",
      " 3   geolocation_city             1000163 non-null  object \n",
      " 4   geolocation_state            1000163 non-null  object \n",
      "dtypes: float64(2), int64(1), object(2)\n",
      "memory usage: 38.2+ MB\n"
     ]
    },
    {
     "data": {
      "text/html": [
       "<div>\n",
       "<style scoped>\n",
       "    .dataframe tbody tr th:only-of-type {\n",
       "        vertical-align: middle;\n",
       "    }\n",
       "\n",
       "    .dataframe tbody tr th {\n",
       "        vertical-align: top;\n",
       "    }\n",
       "\n",
       "    .dataframe thead th {\n",
       "        text-align: right;\n",
       "    }\n",
       "</style>\n",
       "<table border=\"1\" class=\"dataframe\">\n",
       "  <thead>\n",
       "    <tr style=\"text-align: right;\">\n",
       "      <th></th>\n",
       "      <th>geolocation_zip_code_prefix</th>\n",
       "      <th>geolocation_lat</th>\n",
       "      <th>geolocation_lng</th>\n",
       "      <th>geolocation_city</th>\n",
       "      <th>geolocation_state</th>\n",
       "    </tr>\n",
       "  </thead>\n",
       "  <tbody>\n",
       "    <tr>\n",
       "      <th>0</th>\n",
       "      <td>1037</td>\n",
       "      <td>-23.545621</td>\n",
       "      <td>-46.639292</td>\n",
       "      <td>sao paulo</td>\n",
       "      <td>SP</td>\n",
       "    </tr>\n",
       "    <tr>\n",
       "      <th>1</th>\n",
       "      <td>1046</td>\n",
       "      <td>-23.546081</td>\n",
       "      <td>-46.644820</td>\n",
       "      <td>sao paulo</td>\n",
       "      <td>SP</td>\n",
       "    </tr>\n",
       "    <tr>\n",
       "      <th>2</th>\n",
       "      <td>1046</td>\n",
       "      <td>-23.546129</td>\n",
       "      <td>-46.642951</td>\n",
       "      <td>sao paulo</td>\n",
       "      <td>SP</td>\n",
       "    </tr>\n",
       "    <tr>\n",
       "      <th>3</th>\n",
       "      <td>1041</td>\n",
       "      <td>-23.544392</td>\n",
       "      <td>-46.639499</td>\n",
       "      <td>sao paulo</td>\n",
       "      <td>SP</td>\n",
       "    </tr>\n",
       "    <tr>\n",
       "      <th>4</th>\n",
       "      <td>1035</td>\n",
       "      <td>-23.541578</td>\n",
       "      <td>-46.641607</td>\n",
       "      <td>sao paulo</td>\n",
       "      <td>SP</td>\n",
       "    </tr>\n",
       "  </tbody>\n",
       "</table>\n",
       "</div>"
      ],
      "text/plain": [
       "   geolocation_zip_code_prefix  geolocation_lat  geolocation_lng  \\\n",
       "0                         1037       -23.545621       -46.639292   \n",
       "1                         1046       -23.546081       -46.644820   \n",
       "2                         1046       -23.546129       -46.642951   \n",
       "3                         1041       -23.544392       -46.639499   \n",
       "4                         1035       -23.541578       -46.641607   \n",
       "\n",
       "  geolocation_city geolocation_state  \n",
       "0        sao paulo                SP  \n",
       "1        sao paulo                SP  \n",
       "2        sao paulo                SP  \n",
       "3        sao paulo                SP  \n",
       "4        sao paulo                SP  "
      ]
     },
     "execution_count": 43,
     "metadata": {},
     "output_type": "execute_result"
    }
   ],
   "source": [
    "geolocation = pd.read_csv(\"geolocation.csv\")\n",
    "geolocation.info()\n",
    "geolocation.head()"
   ]
  },
  {
   "cell_type": "code",
   "execution_count": 45,
   "id": "f6a4b3dc",
   "metadata": {},
   "outputs": [
    {
     "data": {
      "text/plain": [
       "geolocation_zip_code_prefix    0\n",
       "geolocation_lat                0\n",
       "geolocation_lng                0\n",
       "geolocation_city               0\n",
       "geolocation_state              0\n",
       "dtype: int64"
      ]
     },
     "execution_count": 45,
     "metadata": {},
     "output_type": "execute_result"
    }
   ],
   "source": [
    "geolocation.isnull().sum()"
   ]
  },
  {
   "cell_type": "code",
   "execution_count": 47,
   "id": "337dcf43",
   "metadata": {},
   "outputs": [
    {
     "data": {
      "text/plain": [
       "261831"
      ]
     },
     "execution_count": 47,
     "metadata": {},
     "output_type": "execute_result"
    }
   ],
   "source": [
    "geolocation.duplicated().sum()"
   ]
  },
  {
   "cell_type": "code",
   "execution_count": 49,
   "id": "e56ada18",
   "metadata": {},
   "outputs": [
    {
     "data": {
      "text/html": [
       "<div>\n",
       "<style scoped>\n",
       "    .dataframe tbody tr th:only-of-type {\n",
       "        vertical-align: middle;\n",
       "    }\n",
       "\n",
       "    .dataframe tbody tr th {\n",
       "        vertical-align: top;\n",
       "    }\n",
       "\n",
       "    .dataframe thead th {\n",
       "        text-align: right;\n",
       "    }\n",
       "</style>\n",
       "<table border=\"1\" class=\"dataframe\">\n",
       "  <thead>\n",
       "    <tr style=\"text-align: right;\">\n",
       "      <th></th>\n",
       "      <th>geolocation_zip_code_prefix</th>\n",
       "      <th>geolocation_lat</th>\n",
       "      <th>geolocation_lng</th>\n",
       "      <th>geolocation_city</th>\n",
       "      <th>geolocation_state</th>\n",
       "      <th>count</th>\n",
       "    </tr>\n",
       "  </thead>\n",
       "  <tbody>\n",
       "    <tr>\n",
       "      <th>666533</th>\n",
       "      <td>88220</td>\n",
       "      <td>-27.102099</td>\n",
       "      <td>-48.629613</td>\n",
       "      <td>itapema</td>\n",
       "      <td>SC</td>\n",
       "      <td>314</td>\n",
       "    </tr>\n",
       "  </tbody>\n",
       "</table>\n",
       "</div>"
      ],
      "text/plain": [
       "        geolocation_zip_code_prefix  geolocation_lat  geolocation_lng  \\\n",
       "666533                        88220       -27.102099       -48.629613   \n",
       "\n",
       "       geolocation_city geolocation_state  count  \n",
       "666533          itapema                SC    314  "
      ]
     },
     "execution_count": 49,
     "metadata": {},
     "output_type": "execute_result"
    }
   ],
   "source": [
    "# Count how many times each row appears\n",
    "dupes = geolocation.groupby(geolocation.columns.tolist()).size().reset_index(name='count')\n",
    "\n",
    "# Sort by highest numbers\n",
    "dupes = dupes.sort_values(by='count', ascending=False)\n",
    "\n",
    "# Show the most top most ones\n",
    "dupes.head(1)"
   ]
  },
  {
   "cell_type": "code",
   "execution_count": 51,
   "id": "b5ae1f9c",
   "metadata": {},
   "outputs": [
    {
     "data": {
      "text/html": [
       "<div>\n",
       "<style scoped>\n",
       "    .dataframe tbody tr th:only-of-type {\n",
       "        vertical-align: middle;\n",
       "    }\n",
       "\n",
       "    .dataframe tbody tr th {\n",
       "        vertical-align: top;\n",
       "    }\n",
       "\n",
       "    .dataframe thead th {\n",
       "        text-align: right;\n",
       "    }\n",
       "</style>\n",
       "<table border=\"1\" class=\"dataframe\">\n",
       "  <thead>\n",
       "    <tr style=\"text-align: right;\">\n",
       "      <th></th>\n",
       "      <th>geolocation_zip_code_prefix</th>\n",
       "      <th>geolocation_lat</th>\n",
       "      <th>geolocation_lng</th>\n",
       "      <th>geolocation_city</th>\n",
       "      <th>geolocation_state</th>\n",
       "    </tr>\n",
       "  </thead>\n",
       "  <tbody>\n",
       "  </tbody>\n",
       "</table>\n",
       "</div>"
      ],
      "text/plain": [
       "Empty DataFrame\n",
       "Columns: [geolocation_zip_code_prefix, geolocation_lat, geolocation_lng, geolocation_city, geolocation_state]\n",
       "Index: []"
      ]
     },
     "execution_count": 51,
     "metadata": {},
     "output_type": "execute_result"
    }
   ],
   "source": [
    "# Filter the dataset to view all 314 matching rows\n",
    "geolocation[\n",
    "    (geolocation['geolocation_zip_code_prefix'] == 88220) &\n",
    "    (geolocation['geolocation_lat'] == -27.102099) &\n",
    "    (geolocation['geolocation_lng'] == -48.629613) &\n",
    "    (geolocation['geolocation_city'] == 'itapema') &\n",
    "    (geolocation['geolocation_state'] == 'SC')\n",
    "]"
   ]
  },
  {
   "cell_type": "code",
   "execution_count": 53,
   "id": "6ed9cb60",
   "metadata": {},
   "outputs": [
    {
     "data": {
      "text/plain": [
       "geolocation_zip_code_prefix  geolocation_lat  geolocation_lng  geolocation_city  geolocation_state\n",
       "88220                        -27.102099       -48.629613       itapema           SC                   314\n",
       "dtype: int64"
      ]
     },
     "execution_count": 53,
     "metadata": {},
     "output_type": "execute_result"
    }
   ],
   "source": [
    "# Find all duplicate rows (entire row duplicates)\n",
    "geo_duplicates = geolocation[geolocation.duplicated(keep=False)]\n",
    "\n",
    "# View the top duplicate group\n",
    "geo_duplicates.value_counts().head(1)"
   ]
  },
  {
   "cell_type": "code",
   "execution_count": 55,
   "id": "4c90f735",
   "metadata": {},
   "outputs": [
    {
     "data": {
      "text/html": [
       "<div>\n",
       "<style scoped>\n",
       "    .dataframe tbody tr th:only-of-type {\n",
       "        vertical-align: middle;\n",
       "    }\n",
       "\n",
       "    .dataframe tbody tr th {\n",
       "        vertical-align: top;\n",
       "    }\n",
       "\n",
       "    .dataframe thead th {\n",
       "        text-align: right;\n",
       "    }\n",
       "</style>\n",
       "<table border=\"1\" class=\"dataframe\">\n",
       "  <thead>\n",
       "    <tr style=\"text-align: right;\">\n",
       "      <th></th>\n",
       "      <th>geolocation_zip_code_prefix</th>\n",
       "      <th>geolocation_lat</th>\n",
       "      <th>geolocation_lng</th>\n",
       "      <th>geolocation_city</th>\n",
       "      <th>geolocation_state</th>\n",
       "    </tr>\n",
       "  </thead>\n",
       "  <tbody>\n",
       "  </tbody>\n",
       "</table>\n",
       "</div>"
      ],
      "text/plain": [
       "Empty DataFrame\n",
       "Columns: [geolocation_zip_code_prefix, geolocation_lat, geolocation_lng, geolocation_city, geolocation_state]\n",
       "Index: []"
      ]
     },
     "execution_count": 55,
     "metadata": {},
     "output_type": "execute_result"
    }
   ],
   "source": [
    "geolocation[\n",
    "    (geolocation['geolocation_zip_code_prefix'] == 88220) &\n",
    "    (geolocation['geolocation_lat'] == -27.102099) &\n",
    "    (geolocation['geolocation_lng'] == -48.629613) &\n",
    "    (geolocation['geolocation_city'] == 'itapema') &\n",
    "    (geolocation['geolocation_state'] == 'SC')\n",
    "]"
   ]
  },
  {
   "cell_type": "code",
   "execution_count": 57,
   "id": "83a78a21",
   "metadata": {},
   "outputs": [
    {
     "data": {
      "text/html": [
       "<div>\n",
       "<style scoped>\n",
       "    .dataframe tbody tr th:only-of-type {\n",
       "        vertical-align: middle;\n",
       "    }\n",
       "\n",
       "    .dataframe tbody tr th {\n",
       "        vertical-align: top;\n",
       "    }\n",
       "\n",
       "    .dataframe thead th {\n",
       "        text-align: right;\n",
       "    }\n",
       "</style>\n",
       "<table border=\"1\" class=\"dataframe\">\n",
       "  <thead>\n",
       "    <tr style=\"text-align: right;\">\n",
       "      <th></th>\n",
       "      <th>geolocation_zip_code_prefix</th>\n",
       "      <th>geolocation_lat</th>\n",
       "      <th>geolocation_lng</th>\n",
       "      <th>geolocation_city</th>\n",
       "      <th>geolocation_state</th>\n",
       "    </tr>\n",
       "  </thead>\n",
       "  <tbody>\n",
       "    <tr>\n",
       "      <th>908079</th>\n",
       "      <td>88220</td>\n",
       "      <td>-27.102099</td>\n",
       "      <td>-48.629613</td>\n",
       "      <td>itapema</td>\n",
       "      <td>SC</td>\n",
       "    </tr>\n",
       "    <tr>\n",
       "      <th>908080</th>\n",
       "      <td>88220</td>\n",
       "      <td>-27.102099</td>\n",
       "      <td>-48.629613</td>\n",
       "      <td>itapema</td>\n",
       "      <td>SC</td>\n",
       "    </tr>\n",
       "    <tr>\n",
       "      <th>908081</th>\n",
       "      <td>88220</td>\n",
       "      <td>-27.102099</td>\n",
       "      <td>-48.629613</td>\n",
       "      <td>itapema</td>\n",
       "      <td>SC</td>\n",
       "    </tr>\n",
       "    <tr>\n",
       "      <th>908082</th>\n",
       "      <td>88220</td>\n",
       "      <td>-27.102099</td>\n",
       "      <td>-48.629613</td>\n",
       "      <td>itapema</td>\n",
       "      <td>SC</td>\n",
       "    </tr>\n",
       "    <tr>\n",
       "      <th>908092</th>\n",
       "      <td>88220</td>\n",
       "      <td>-27.102099</td>\n",
       "      <td>-48.629613</td>\n",
       "      <td>itapema</td>\n",
       "      <td>SC</td>\n",
       "    </tr>\n",
       "    <tr>\n",
       "      <th>...</th>\n",
       "      <td>...</td>\n",
       "      <td>...</td>\n",
       "      <td>...</td>\n",
       "      <td>...</td>\n",
       "      <td>...</td>\n",
       "    </tr>\n",
       "    <tr>\n",
       "      <th>909252</th>\n",
       "      <td>88220</td>\n",
       "      <td>-27.102099</td>\n",
       "      <td>-48.629613</td>\n",
       "      <td>itapema</td>\n",
       "      <td>SC</td>\n",
       "    </tr>\n",
       "    <tr>\n",
       "      <th>909270</th>\n",
       "      <td>88220</td>\n",
       "      <td>-27.102099</td>\n",
       "      <td>-48.629613</td>\n",
       "      <td>itapema</td>\n",
       "      <td>SC</td>\n",
       "    </tr>\n",
       "    <tr>\n",
       "      <th>909277</th>\n",
       "      <td>88220</td>\n",
       "      <td>-27.102099</td>\n",
       "      <td>-48.629613</td>\n",
       "      <td>itapema</td>\n",
       "      <td>SC</td>\n",
       "    </tr>\n",
       "    <tr>\n",
       "      <th>909286</th>\n",
       "      <td>88220</td>\n",
       "      <td>-27.102099</td>\n",
       "      <td>-48.629613</td>\n",
       "      <td>itapema</td>\n",
       "      <td>SC</td>\n",
       "    </tr>\n",
       "    <tr>\n",
       "      <th>909288</th>\n",
       "      <td>88220</td>\n",
       "      <td>-27.102099</td>\n",
       "      <td>-48.629613</td>\n",
       "      <td>itapema</td>\n",
       "      <td>SC</td>\n",
       "    </tr>\n",
       "  </tbody>\n",
       "</table>\n",
       "<p>314 rows × 5 columns</p>\n",
       "</div>"
      ],
      "text/plain": [
       "        geolocation_zip_code_prefix  geolocation_lat  geolocation_lng  \\\n",
       "908079                        88220       -27.102099       -48.629613   \n",
       "908080                        88220       -27.102099       -48.629613   \n",
       "908081                        88220       -27.102099       -48.629613   \n",
       "908082                        88220       -27.102099       -48.629613   \n",
       "908092                        88220       -27.102099       -48.629613   \n",
       "...                             ...              ...              ...   \n",
       "909252                        88220       -27.102099       -48.629613   \n",
       "909270                        88220       -27.102099       -48.629613   \n",
       "909277                        88220       -27.102099       -48.629613   \n",
       "909286                        88220       -27.102099       -48.629613   \n",
       "909288                        88220       -27.102099       -48.629613   \n",
       "\n",
       "       geolocation_city geolocation_state  \n",
       "908079          itapema                SC  \n",
       "908080          itapema                SC  \n",
       "908081          itapema                SC  \n",
       "908082          itapema                SC  \n",
       "908092          itapema                SC  \n",
       "...                 ...               ...  \n",
       "909252          itapema                SC  \n",
       "909270          itapema                SC  \n",
       "909277          itapema                SC  \n",
       "909286          itapema                SC  \n",
       "909288          itapema                SC  \n",
       "\n",
       "[314 rows x 5 columns]"
      ]
     },
     "execution_count": 57,
     "metadata": {},
     "output_type": "execute_result"
    }
   ],
   "source": [
    "geolocation[\n",
    "    (geolocation['geolocation_zip_code_prefix'] == 88220) &\n",
    "    (geolocation['geolocation_lat'].round(6) == -27.102099) &\n",
    "    (geolocation['geolocation_lng'].round(6) == -48.629613) &\n",
    "    (geolocation['geolocation_city'].str.strip().str.lower() == 'itapema') &\n",
    "    (geolocation['geolocation_state'].str.strip().str.upper() == 'SC')\n",
    "]"
   ]
  },
  {
   "cell_type": "code",
   "execution_count": 59,
   "id": "d1c9f9ca",
   "metadata": {},
   "outputs": [],
   "source": [
    "geolocation = geolocation.drop_duplicates()"
   ]
  },
  {
   "cell_type": "code",
   "execution_count": 61,
   "id": "ec2edf47",
   "metadata": {},
   "outputs": [
    {
     "data": {
      "text/plain": [
       "738332"
      ]
     },
     "execution_count": 61,
     "metadata": {},
     "output_type": "execute_result"
    }
   ],
   "source": [
    "len(geolocation)"
   ]
  },
  {
   "cell_type": "code",
   "execution_count": 63,
   "id": "d35b8f31",
   "metadata": {},
   "outputs": [
    {
     "data": {
      "text/plain": [
       "0"
      ]
     },
     "execution_count": 63,
     "metadata": {},
     "output_type": "execute_result"
    }
   ],
   "source": [
    "geolocation.duplicated().sum()"
   ]
  },
  {
   "cell_type": "code",
   "execution_count": 65,
   "id": "0ebf286e",
   "metadata": {},
   "outputs": [],
   "source": [
    "geolocation.to_csv(\"geolocation_1.csv\", index=False)"
   ]
  },
  {
   "cell_type": "markdown",
   "id": "9ff6a3d8",
   "metadata": {},
   "source": [
    "### Cleaning the `geolocation` Dataset\n",
    "\n",
    "I cleaned the `geolocation` dataset, which contains zip code prefixes, coordinates, and location details of customers and sellers. This dataset is important for mapping and geographic clustering analyses.\n",
    "\n",
    "#### Steps in the cleaning process:\n",
    "1. Confirmed the dataset had **1,000,163 rows** and **5 columns**\n",
    "2. Verified there were **no missing values**\n",
    "3. Detected and dropped **261,831 exact duplicate rows**\n",
    "4. Verified that the cleaned dataset now has **738,332 unique rows**\n",
    "5. Saved the cleaned dataset as `geolocation_1.csv`"
   ]
  },
  {
   "cell_type": "markdown",
   "id": "6ad74e2e",
   "metadata": {},
   "source": [
    "## Cleaning the products Dataset (7)\n",
    "\n",
    "I'll now clean the products dataset, which includes product-specific information such as category, dimensions, and weight. This dataset is key for product-level analysis, including performance, pricing trends, and shipping characteristics.\n",
    "\n",
    "#### Steps in the cleaning process:\n",
    "\n",
    "Load the dataset and examine its structure and data types.\n",
    "Check for missing values and duplicated rows.\n",
    "Standardize and validate product categories and measurements.\n",
    "Drop or impute nulls if necessary.\n",
    "Export the cleaned dataset as products_1.csv."
   ]
  },
  {
   "cell_type": "code",
   "execution_count": 91,
   "id": "d4cba660",
   "metadata": {
    "scrolled": true
   },
   "outputs": [
    {
     "name": "stdout",
     "output_type": "stream",
     "text": [
      "<class 'pandas.core.frame.DataFrame'>\n",
      "RangeIndex: 32951 entries, 0 to 32950\n",
      "Data columns (total 9 columns):\n",
      " #   Column                      Non-Null Count  Dtype  \n",
      "---  ------                      --------------  -----  \n",
      " 0   product_id                  32951 non-null  object \n",
      " 1   product_category_name       32341 non-null  object \n",
      " 2   product_name_lenght         32341 non-null  float64\n",
      " 3   product_description_lenght  32341 non-null  float64\n",
      " 4   product_photos_qty          32341 non-null  float64\n",
      " 5   product_weight_g            32949 non-null  float64\n",
      " 6   product_length_cm           32949 non-null  float64\n",
      " 7   product_height_cm           32949 non-null  float64\n",
      " 8   product_width_cm            32949 non-null  float64\n",
      "dtypes: float64(7), object(2)\n",
      "memory usage: 2.3+ MB\n"
     ]
    },
    {
     "data": {
      "text/html": [
       "<div>\n",
       "<style scoped>\n",
       "    .dataframe tbody tr th:only-of-type {\n",
       "        vertical-align: middle;\n",
       "    }\n",
       "\n",
       "    .dataframe tbody tr th {\n",
       "        vertical-align: top;\n",
       "    }\n",
       "\n",
       "    .dataframe thead th {\n",
       "        text-align: right;\n",
       "    }\n",
       "</style>\n",
       "<table border=\"1\" class=\"dataframe\">\n",
       "  <thead>\n",
       "    <tr style=\"text-align: right;\">\n",
       "      <th></th>\n",
       "      <th>product_id</th>\n",
       "      <th>product_category_name</th>\n",
       "      <th>product_name_lenght</th>\n",
       "      <th>product_description_lenght</th>\n",
       "      <th>product_photos_qty</th>\n",
       "      <th>product_weight_g</th>\n",
       "      <th>product_length_cm</th>\n",
       "      <th>product_height_cm</th>\n",
       "      <th>product_width_cm</th>\n",
       "    </tr>\n",
       "  </thead>\n",
       "  <tbody>\n",
       "    <tr>\n",
       "      <th>0</th>\n",
       "      <td>1e9e8ef04dbcff4541ed26657ea517e5</td>\n",
       "      <td>perfumaria</td>\n",
       "      <td>40.0</td>\n",
       "      <td>287.0</td>\n",
       "      <td>1.0</td>\n",
       "      <td>225.0</td>\n",
       "      <td>16.0</td>\n",
       "      <td>10.0</td>\n",
       "      <td>14.0</td>\n",
       "    </tr>\n",
       "    <tr>\n",
       "      <th>1</th>\n",
       "      <td>3aa071139cb16b67ca9e5dea641aaa2f</td>\n",
       "      <td>artes</td>\n",
       "      <td>44.0</td>\n",
       "      <td>276.0</td>\n",
       "      <td>1.0</td>\n",
       "      <td>1000.0</td>\n",
       "      <td>30.0</td>\n",
       "      <td>18.0</td>\n",
       "      <td>20.0</td>\n",
       "    </tr>\n",
       "    <tr>\n",
       "      <th>2</th>\n",
       "      <td>96bd76ec8810374ed1b65e291975717f</td>\n",
       "      <td>esporte_lazer</td>\n",
       "      <td>46.0</td>\n",
       "      <td>250.0</td>\n",
       "      <td>1.0</td>\n",
       "      <td>154.0</td>\n",
       "      <td>18.0</td>\n",
       "      <td>9.0</td>\n",
       "      <td>15.0</td>\n",
       "    </tr>\n",
       "    <tr>\n",
       "      <th>3</th>\n",
       "      <td>cef67bcfe19066a932b7673e239eb23d</td>\n",
       "      <td>bebes</td>\n",
       "      <td>27.0</td>\n",
       "      <td>261.0</td>\n",
       "      <td>1.0</td>\n",
       "      <td>371.0</td>\n",
       "      <td>26.0</td>\n",
       "      <td>4.0</td>\n",
       "      <td>26.0</td>\n",
       "    </tr>\n",
       "    <tr>\n",
       "      <th>4</th>\n",
       "      <td>9dc1a7de274444849c219cff195d0b71</td>\n",
       "      <td>utilidades_domesticas</td>\n",
       "      <td>37.0</td>\n",
       "      <td>402.0</td>\n",
       "      <td>4.0</td>\n",
       "      <td>625.0</td>\n",
       "      <td>20.0</td>\n",
       "      <td>17.0</td>\n",
       "      <td>13.0</td>\n",
       "    </tr>\n",
       "  </tbody>\n",
       "</table>\n",
       "</div>"
      ],
      "text/plain": [
       "                         product_id  product_category_name  \\\n",
       "0  1e9e8ef04dbcff4541ed26657ea517e5             perfumaria   \n",
       "1  3aa071139cb16b67ca9e5dea641aaa2f                  artes   \n",
       "2  96bd76ec8810374ed1b65e291975717f          esporte_lazer   \n",
       "3  cef67bcfe19066a932b7673e239eb23d                  bebes   \n",
       "4  9dc1a7de274444849c219cff195d0b71  utilidades_domesticas   \n",
       "\n",
       "   product_name_lenght  product_description_lenght  product_photos_qty  \\\n",
       "0                 40.0                       287.0                 1.0   \n",
       "1                 44.0                       276.0                 1.0   \n",
       "2                 46.0                       250.0                 1.0   \n",
       "3                 27.0                       261.0                 1.0   \n",
       "4                 37.0                       402.0                 4.0   \n",
       "\n",
       "   product_weight_g  product_length_cm  product_height_cm  product_width_cm  \n",
       "0             225.0               16.0               10.0              14.0  \n",
       "1            1000.0               30.0               18.0              20.0  \n",
       "2             154.0               18.0                9.0              15.0  \n",
       "3             371.0               26.0                4.0              26.0  \n",
       "4             625.0               20.0               17.0              13.0  "
      ]
     },
     "execution_count": 91,
     "metadata": {},
     "output_type": "execute_result"
    }
   ],
   "source": [
    "products = pd.read_csv(\"products.csv\")\n",
    "products.info()\n",
    "products.head()"
   ]
  },
  {
   "cell_type": "code",
   "execution_count": 92,
   "id": "aae22ca5",
   "metadata": {},
   "outputs": [
    {
     "data": {
      "text/plain": [
       "True"
      ]
     },
     "execution_count": 92,
     "metadata": {},
     "output_type": "execute_result"
    }
   ],
   "source": [
    "products['product_id'].is_unique"
   ]
  },
  {
   "cell_type": "code",
   "execution_count": 93,
   "id": "6d6a8495",
   "metadata": {},
   "outputs": [
    {
     "data": {
      "text/plain": [
       "0"
      ]
     },
     "execution_count": 93,
     "metadata": {},
     "output_type": "execute_result"
    }
   ],
   "source": [
    "products['product_id'].duplicated().sum()"
   ]
  },
  {
   "cell_type": "code",
   "execution_count": 94,
   "id": "1f07bb5a",
   "metadata": {},
   "outputs": [],
   "source": [
    "products = products.dropna(subset=['product_category_name'])"
   ]
  },
  {
   "cell_type": "code",
   "execution_count": 95,
   "id": "e08af42c",
   "metadata": {},
   "outputs": [
    {
     "data": {
      "text/plain": [
       "(32341, 9)"
      ]
     },
     "execution_count": 95,
     "metadata": {},
     "output_type": "execute_result"
    }
   ],
   "source": [
    "products.shape"
   ]
  },
  {
   "cell_type": "code",
   "execution_count": 96,
   "id": "396e169d",
   "metadata": {},
   "outputs": [
    {
     "data": {
      "text/plain": [
       "73"
      ]
     },
     "execution_count": 96,
     "metadata": {},
     "output_type": "execute_result"
    }
   ],
   "source": [
    "products['product_category_name'].nunique()"
   ]
  },
  {
   "cell_type": "code",
   "execution_count": 97,
   "id": "a13ae384",
   "metadata": {},
   "outputs": [
    {
     "data": {
      "text/plain": [
       "array(['perfumaria', 'artes', 'esporte_lazer', 'bebes',\n",
       "       'utilidades_domesticas', 'instrumentos_musicais', 'cool_stuff',\n",
       "       'moveis_decoracao', 'eletrodomesticos', 'brinquedos',\n",
       "       'cama_mesa_banho', 'construcao_ferramentas_seguranca',\n",
       "       'informatica_acessorios', 'beleza_saude', 'malas_acessorios',\n",
       "       'ferramentas_jardim', 'moveis_escritorio', 'automotivo',\n",
       "       'eletronicos', 'fashion_calcados', 'telefonia', 'papelaria',\n",
       "       'fashion_bolsas_e_acessorios', 'pcs', 'casa_construcao',\n",
       "       'relogios_presentes', 'construcao_ferramentas_construcao',\n",
       "       'pet_shop', 'eletroportateis', 'agro_industria_e_comercio',\n",
       "       'moveis_sala', 'sinalizacao_e_seguranca', 'climatizacao',\n",
       "       'consoles_games', 'livros_interesse_geral',\n",
       "       'construcao_ferramentas_ferramentas',\n",
       "       'fashion_underwear_e_moda_praia', 'fashion_roupa_masculina',\n",
       "       'moveis_cozinha_area_de_servico_jantar_e_jardim',\n",
       "       'industria_comercio_e_negocios', 'telefonia_fixa',\n",
       "       'construcao_ferramentas_iluminacao', 'livros_tecnicos',\n",
       "       'eletrodomesticos_2', 'artigos_de_festas', 'bebidas',\n",
       "       'market_place', 'la_cuisine', 'construcao_ferramentas_jardim',\n",
       "       'fashion_roupa_feminina', 'casa_conforto', 'audio',\n",
       "       'alimentos_bebidas', 'musica', 'alimentos',\n",
       "       'tablets_impressao_imagem', 'livros_importados',\n",
       "       'portateis_casa_forno_e_cafe', 'fashion_esporte',\n",
       "       'artigos_de_natal', 'fashion_roupa_infanto_juvenil',\n",
       "       'dvds_blu_ray', 'artes_e_artesanato', 'pc_gamer', 'moveis_quarto',\n",
       "       'cine_foto', 'fraldas_higiene', 'flores', 'casa_conforto_2',\n",
       "       'portateis_cozinha_e_preparadores_de_alimentos',\n",
       "       'seguros_e_servicos', 'moveis_colchao_e_estofado',\n",
       "       'cds_dvds_musicais'], dtype=object)"
      ]
     },
     "execution_count": 97,
     "metadata": {},
     "output_type": "execute_result"
    }
   ],
   "source": [
    "products['product_category_name'].unique()"
   ]
  },
  {
   "cell_type": "code",
   "execution_count": 98,
   "id": "fea30b4a",
   "metadata": {},
   "outputs": [
    {
     "data": {
      "text/plain": [
       "['agro_industria_e_comercio',\n",
       " 'alimentos',\n",
       " 'alimentos_bebidas',\n",
       " 'artes',\n",
       " 'artes_e_artesanato',\n",
       " 'artigos_de_festas',\n",
       " 'artigos_de_natal',\n",
       " 'audio',\n",
       " 'automotivo',\n",
       " 'bebes',\n",
       " 'bebidas',\n",
       " 'beleza_saude',\n",
       " 'brinquedos',\n",
       " 'cama_mesa_banho',\n",
       " 'casa_conforto',\n",
       " 'casa_conforto_2',\n",
       " 'casa_construcao',\n",
       " 'cds_dvds_musicais',\n",
       " 'cine_foto',\n",
       " 'climatizacao',\n",
       " 'consoles_games',\n",
       " 'construcao_ferramentas_construcao',\n",
       " 'construcao_ferramentas_ferramentas',\n",
       " 'construcao_ferramentas_iluminacao',\n",
       " 'construcao_ferramentas_jardim',\n",
       " 'construcao_ferramentas_seguranca',\n",
       " 'cool_stuff',\n",
       " 'dvds_blu_ray',\n",
       " 'eletrodomesticos',\n",
       " 'eletrodomesticos_2',\n",
       " 'eletronicos',\n",
       " 'eletroportateis',\n",
       " 'esporte_lazer',\n",
       " 'fashion_bolsas_e_acessorios',\n",
       " 'fashion_calcados',\n",
       " 'fashion_esporte',\n",
       " 'fashion_roupa_feminina',\n",
       " 'fashion_roupa_infanto_juvenil',\n",
       " 'fashion_roupa_masculina',\n",
       " 'fashion_underwear_e_moda_praia',\n",
       " 'ferramentas_jardim',\n",
       " 'flores',\n",
       " 'fraldas_higiene',\n",
       " 'industria_comercio_e_negocios',\n",
       " 'informatica_acessorios',\n",
       " 'instrumentos_musicais',\n",
       " 'la_cuisine',\n",
       " 'livros_importados',\n",
       " 'livros_interesse_geral',\n",
       " 'livros_tecnicos',\n",
       " 'malas_acessorios',\n",
       " 'market_place',\n",
       " 'moveis_colchao_e_estofado',\n",
       " 'moveis_cozinha_area_de_servico_jantar_e_jardim',\n",
       " 'moveis_decoracao',\n",
       " 'moveis_escritorio',\n",
       " 'moveis_quarto',\n",
       " 'moveis_sala',\n",
       " 'musica',\n",
       " 'papelaria',\n",
       " 'pc_gamer',\n",
       " 'pcs',\n",
       " 'perfumaria',\n",
       " 'pet_shop',\n",
       " 'portateis_casa_forno_e_cafe',\n",
       " 'portateis_cozinha_e_preparadores_de_alimentos',\n",
       " 'relogios_presentes',\n",
       " 'seguros_e_servicos',\n",
       " 'sinalizacao_e_seguranca',\n",
       " 'tablets_impressao_imagem',\n",
       " 'telefonia',\n",
       " 'telefonia_fixa',\n",
       " 'utilidades_domesticas']"
      ]
     },
     "execution_count": 98,
     "metadata": {},
     "output_type": "execute_result"
    }
   ],
   "source": [
    "sorted(products['product_category_name'].unique())"
   ]
  },
  {
   "cell_type": "code",
   "execution_count": 99,
   "id": "fa2bef3d",
   "metadata": {},
   "outputs": [
    {
     "data": {
      "text/html": [
       "<div>\n",
       "<style scoped>\n",
       "    .dataframe tbody tr th:only-of-type {\n",
       "        vertical-align: middle;\n",
       "    }\n",
       "\n",
       "    .dataframe tbody tr th {\n",
       "        vertical-align: top;\n",
       "    }\n",
       "\n",
       "    .dataframe thead th {\n",
       "        text-align: right;\n",
       "    }\n",
       "</style>\n",
       "<table border=\"1\" class=\"dataframe\">\n",
       "  <thead>\n",
       "    <tr style=\"text-align: right;\">\n",
       "      <th></th>\n",
       "      <th>product_weight_g</th>\n",
       "      <th>product_length_cm</th>\n",
       "      <th>product_height_cm</th>\n",
       "      <th>product_width_cm</th>\n",
       "    </tr>\n",
       "  </thead>\n",
       "  <tbody>\n",
       "    <tr>\n",
       "      <th>count</th>\n",
       "      <td>32340.000000</td>\n",
       "      <td>32340.000000</td>\n",
       "      <td>32340.000000</td>\n",
       "      <td>32340.000000</td>\n",
       "    </tr>\n",
       "    <tr>\n",
       "      <th>mean</th>\n",
       "      <td>2276.956586</td>\n",
       "      <td>30.854545</td>\n",
       "      <td>16.958813</td>\n",
       "      <td>23.208596</td>\n",
       "    </tr>\n",
       "    <tr>\n",
       "      <th>std</th>\n",
       "      <td>4279.291845</td>\n",
       "      <td>16.955965</td>\n",
       "      <td>13.636115</td>\n",
       "      <td>12.078762</td>\n",
       "    </tr>\n",
       "    <tr>\n",
       "      <th>min</th>\n",
       "      <td>0.000000</td>\n",
       "      <td>7.000000</td>\n",
       "      <td>2.000000</td>\n",
       "      <td>6.000000</td>\n",
       "    </tr>\n",
       "    <tr>\n",
       "      <th>25%</th>\n",
       "      <td>300.000000</td>\n",
       "      <td>18.000000</td>\n",
       "      <td>8.000000</td>\n",
       "      <td>15.000000</td>\n",
       "    </tr>\n",
       "    <tr>\n",
       "      <th>50%</th>\n",
       "      <td>700.000000</td>\n",
       "      <td>25.000000</td>\n",
       "      <td>13.000000</td>\n",
       "      <td>20.000000</td>\n",
       "    </tr>\n",
       "    <tr>\n",
       "      <th>75%</th>\n",
       "      <td>1900.000000</td>\n",
       "      <td>38.000000</td>\n",
       "      <td>21.000000</td>\n",
       "      <td>30.000000</td>\n",
       "    </tr>\n",
       "    <tr>\n",
       "      <th>max</th>\n",
       "      <td>40425.000000</td>\n",
       "      <td>105.000000</td>\n",
       "      <td>105.000000</td>\n",
       "      <td>118.000000</td>\n",
       "    </tr>\n",
       "  </tbody>\n",
       "</table>\n",
       "</div>"
      ],
      "text/plain": [
       "       product_weight_g  product_length_cm  product_height_cm  \\\n",
       "count      32340.000000       32340.000000       32340.000000   \n",
       "mean        2276.956586          30.854545          16.958813   \n",
       "std         4279.291845          16.955965          13.636115   \n",
       "min            0.000000           7.000000           2.000000   \n",
       "25%          300.000000          18.000000           8.000000   \n",
       "50%          700.000000          25.000000          13.000000   \n",
       "75%         1900.000000          38.000000          21.000000   \n",
       "max        40425.000000         105.000000         105.000000   \n",
       "\n",
       "       product_width_cm  \n",
       "count      32340.000000  \n",
       "mean          23.208596  \n",
       "std           12.078762  \n",
       "min            6.000000  \n",
       "25%           15.000000  \n",
       "50%           20.000000  \n",
       "75%           30.000000  \n",
       "max          118.000000  "
      ]
     },
     "execution_count": 99,
     "metadata": {},
     "output_type": "execute_result"
    }
   ],
   "source": [
    "products[['product_weight_g', 'product_length_cm', 'product_height_cm', 'product_width_cm']].describe()"
   ]
  },
  {
   "cell_type": "code",
   "execution_count": 100,
   "id": "468471be",
   "metadata": {},
   "outputs": [],
   "source": [
    "products = products[products['product_weight_g'] > 0]"
   ]
  },
  {
   "cell_type": "code",
   "execution_count": 101,
   "id": "f3a7a2b3",
   "metadata": {},
   "outputs": [
    {
     "data": {
      "text/plain": [
       "0"
      ]
     },
     "execution_count": 101,
     "metadata": {},
     "output_type": "execute_result"
    }
   ],
   "source": [
    "(products['product_weight_g'] == 0).sum()"
   ]
  },
  {
   "cell_type": "code",
   "execution_count": 102,
   "id": "a4413907",
   "metadata": {},
   "outputs": [],
   "source": [
    "products.to_csv(\"products_1.csv\", index=False)"
   ]
  },
  {
   "cell_type": "markdown",
   "id": "d6518ffc",
   "metadata": {},
   "source": [
    "### Cleaning the `Products` Dataset (7)\n",
    "\n",
    "I cleaned the product` dataset, which provides detailed information about each product sold, including its category, physical attributes, and descriptions. This dataset is useful for product-level analysis and understanding assortment characteristics.\n",
    "\n",
    "#### Steps in the cleaning process:\n",
    "1. Loaded the dataset with **32,951 rows** and **9 columns**\n",
    "2. Checked and confirmed that `product_id` values are **all unique**\n",
    "3. Identified **missing values** in several columns, especially in `product_category_name`\n",
    "4. Dropped rows where `product_category_name` was missing, reducing the dataset to **32,341 rows**\n",
    "5. Verified that the remaining float columns were appropriate for numeric analysis\n",
    "6. Checked for product records with zero weight — confirmed that none exist in the filtered dataset\n",
    "7. Also checked how many categories of products are there: **73**\n",
    "\n",
    "The cleaned dataset was saved as `products_1.csv`"
   ]
  },
  {
   "cell_type": "markdown",
   "id": "58cd7b36",
   "metadata": {},
   "source": [
    "## Cleaning the sellers Dataset (8)\n",
    "\n",
    "I'll now clean the sellers dataset, which contains information about each seller, including their location. This dataset is essential for analyzing the geographic distribution of sellers and linking them to their sales performance.\n",
    "\n",
    "#### Steps in the cleaning process:\n",
    "\n",
    "Load the dataset and inspect its structure.\n",
    "Check for missing values or duplicates.\n",
    "Validate seller ID uniqueness.\n",
    "Standardize and clean location fields if necessary.\n",
    "Export the cleaned dataset as sellers_1.csv."
   ]
  },
  {
   "cell_type": "code",
   "execution_count": 104,
   "id": "b8fc6a5d",
   "metadata": {},
   "outputs": [
    {
     "name": "stdout",
     "output_type": "stream",
     "text": [
      "<class 'pandas.core.frame.DataFrame'>\n",
      "RangeIndex: 3095 entries, 0 to 3094\n",
      "Data columns (total 4 columns):\n",
      " #   Column                  Non-Null Count  Dtype \n",
      "---  ------                  --------------  ----- \n",
      " 0   seller_id               3095 non-null   object\n",
      " 1   seller_zip_code_prefix  3095 non-null   int64 \n",
      " 2   seller_city             3095 non-null   object\n",
      " 3   seller_state            3095 non-null   object\n",
      "dtypes: int64(1), object(3)\n",
      "memory usage: 96.8+ KB\n"
     ]
    },
    {
     "data": {
      "text/html": [
       "<div>\n",
       "<style scoped>\n",
       "    .dataframe tbody tr th:only-of-type {\n",
       "        vertical-align: middle;\n",
       "    }\n",
       "\n",
       "    .dataframe tbody tr th {\n",
       "        vertical-align: top;\n",
       "    }\n",
       "\n",
       "    .dataframe thead th {\n",
       "        text-align: right;\n",
       "    }\n",
       "</style>\n",
       "<table border=\"1\" class=\"dataframe\">\n",
       "  <thead>\n",
       "    <tr style=\"text-align: right;\">\n",
       "      <th></th>\n",
       "      <th>seller_id</th>\n",
       "      <th>seller_zip_code_prefix</th>\n",
       "      <th>seller_city</th>\n",
       "      <th>seller_state</th>\n",
       "    </tr>\n",
       "  </thead>\n",
       "  <tbody>\n",
       "    <tr>\n",
       "      <th>0</th>\n",
       "      <td>3442f8959a84dea7ee197c632cb2df15</td>\n",
       "      <td>13023</td>\n",
       "      <td>campinas</td>\n",
       "      <td>SP</td>\n",
       "    </tr>\n",
       "    <tr>\n",
       "      <th>1</th>\n",
       "      <td>d1b65fc7debc3361ea86b5f14c68d2e2</td>\n",
       "      <td>13844</td>\n",
       "      <td>mogi guacu</td>\n",
       "      <td>SP</td>\n",
       "    </tr>\n",
       "    <tr>\n",
       "      <th>2</th>\n",
       "      <td>ce3ad9de960102d0677a81f5d0bb7b2d</td>\n",
       "      <td>20031</td>\n",
       "      <td>rio de janeiro</td>\n",
       "      <td>RJ</td>\n",
       "    </tr>\n",
       "    <tr>\n",
       "      <th>3</th>\n",
       "      <td>c0f3eea2e14555b6faeea3dd58c1b1c3</td>\n",
       "      <td>4195</td>\n",
       "      <td>sao paulo</td>\n",
       "      <td>SP</td>\n",
       "    </tr>\n",
       "    <tr>\n",
       "      <th>4</th>\n",
       "      <td>51a04a8a6bdcb23deccc82b0b80742cf</td>\n",
       "      <td>12914</td>\n",
       "      <td>braganca paulista</td>\n",
       "      <td>SP</td>\n",
       "    </tr>\n",
       "  </tbody>\n",
       "</table>\n",
       "</div>"
      ],
      "text/plain": [
       "                          seller_id  seller_zip_code_prefix  \\\n",
       "0  3442f8959a84dea7ee197c632cb2df15                   13023   \n",
       "1  d1b65fc7debc3361ea86b5f14c68d2e2                   13844   \n",
       "2  ce3ad9de960102d0677a81f5d0bb7b2d                   20031   \n",
       "3  c0f3eea2e14555b6faeea3dd58c1b1c3                    4195   \n",
       "4  51a04a8a6bdcb23deccc82b0b80742cf                   12914   \n",
       "\n",
       "         seller_city seller_state  \n",
       "0           campinas           SP  \n",
       "1         mogi guacu           SP  \n",
       "2     rio de janeiro           RJ  \n",
       "3          sao paulo           SP  \n",
       "4  braganca paulista           SP  "
      ]
     },
     "execution_count": 104,
     "metadata": {},
     "output_type": "execute_result"
    }
   ],
   "source": [
    "sellers = pd.read_csv(\"sellers.csv\")\n",
    "sellers.info()\n",
    "sellers.head()"
   ]
  },
  {
   "cell_type": "code",
   "execution_count": 106,
   "id": "61a34404",
   "metadata": {},
   "outputs": [
    {
     "data": {
      "text/plain": [
       "0"
      ]
     },
     "execution_count": 106,
     "metadata": {},
     "output_type": "execute_result"
    }
   ],
   "source": [
    "sellers.duplicated().sum()"
   ]
  },
  {
   "cell_type": "code",
   "execution_count": 108,
   "id": "4108fd27",
   "metadata": {},
   "outputs": [
    {
     "data": {
      "text/plain": [
       "0"
      ]
     },
     "execution_count": 108,
     "metadata": {},
     "output_type": "execute_result"
    }
   ],
   "source": [
    "sellers['seller_id'].duplicated().sum()"
   ]
  },
  {
   "cell_type": "code",
   "execution_count": 110,
   "id": "cc72b25b",
   "metadata": {},
   "outputs": [
    {
     "data": {
      "text/plain": [
       "SP    1849\n",
       "PR     349\n",
       "MG     244\n",
       "SC     190\n",
       "RJ     171\n",
       "RS     129\n",
       "GO      40\n",
       "DF      30\n",
       "ES      23\n",
       "BA      19\n",
       "CE      13\n",
       "PE       9\n",
       "PB       6\n",
       "RN       5\n",
       "MS       5\n",
       "MT       4\n",
       "RO       2\n",
       "SE       2\n",
       "PI       1\n",
       "AC       1\n",
       "MA       1\n",
       "AM       1\n",
       "PA       1\n",
       "Name: seller_state, dtype: int64"
      ]
     },
     "execution_count": 110,
     "metadata": {},
     "output_type": "execute_result"
    }
   ],
   "source": [
    "sellers['seller_state'].value_counts()"
   ]
  },
  {
   "cell_type": "code",
   "execution_count": 112,
   "id": "66ecb61c",
   "metadata": {},
   "outputs": [],
   "source": [
    "sellers.to_csv(\"sellers_1.csv\", index=False)"
   ]
  },
  {
   "cell_type": "markdown",
   "id": "a33d1884",
   "metadata": {},
   "source": [
    "### Cleaning the `sellers` Dataset (8)\n",
    "\n",
    "I cleaned the `sellers` dataset, which included seller identifiers and their location details. This dataset was essential for mapping seller distribution and linking them to order transactions.\n",
    "\n",
    "### Steps in the cleaning process:\n",
    "1. Confirmed the dataset contained **3,095 rows** and **4 columns**.\n",
    "2. Verified there were **no missing values**.\n",
    "3. Checked for and found **no duplicate rows**.\n",
    "4. Confirmed that all `seller_id` values were **unique**.\n",
    "5. Examined the `seller_state` column and observed that sellers were spread across **23 states**.\n",
    "\n",
    "The cleaned dataset was saved as `sellers_1.csv`.\n"
   ]
  },
  {
   "cell_type": "markdown",
   "id": "ec590dc6",
   "metadata": {},
   "source": [
    "### Cleaning the `product_category_name_translation` Dataset (9)\n",
    "\n",
    "Final Dataset next: `product_category_name_translation`, which maps Portuguese product category names to their English equivalents. This dataset is important for making product category analysis more interpretable for non-Portuguese speakers.\n",
    "\n",
    "#### Steps in the cleaning process:\n",
    "1. Load and inspect the structure and data types.\n",
    "2. Check for missing values and duplicates.\n",
    "3. Standardize column names if necessary.\n",
    "4. Verify all Portuguese category names exist in the products dataset.\n",
    "5. Export the cleaned dataset."
   ]
  },
  {
   "cell_type": "code",
   "execution_count": 115,
   "id": "60edef2b",
   "metadata": {},
   "outputs": [
    {
     "name": "stdout",
     "output_type": "stream",
     "text": [
      "<class 'pandas.core.frame.DataFrame'>\n",
      "RangeIndex: 71 entries, 0 to 70\n",
      "Data columns (total 2 columns):\n",
      " #   Column                         Non-Null Count  Dtype \n",
      "---  ------                         --------------  ----- \n",
      " 0   product_category_name          71 non-null     object\n",
      " 1   product_category_name_english  71 non-null     object\n",
      "dtypes: object(2)\n",
      "memory usage: 1.2+ KB\n"
     ]
    },
    {
     "data": {
      "text/html": [
       "<div>\n",
       "<style scoped>\n",
       "    .dataframe tbody tr th:only-of-type {\n",
       "        vertical-align: middle;\n",
       "    }\n",
       "\n",
       "    .dataframe tbody tr th {\n",
       "        vertical-align: top;\n",
       "    }\n",
       "\n",
       "    .dataframe thead th {\n",
       "        text-align: right;\n",
       "    }\n",
       "</style>\n",
       "<table border=\"1\" class=\"dataframe\">\n",
       "  <thead>\n",
       "    <tr style=\"text-align: right;\">\n",
       "      <th></th>\n",
       "      <th>product_category_name</th>\n",
       "      <th>product_category_name_english</th>\n",
       "    </tr>\n",
       "  </thead>\n",
       "  <tbody>\n",
       "    <tr>\n",
       "      <th>0</th>\n",
       "      <td>beleza_saude</td>\n",
       "      <td>health_beauty</td>\n",
       "    </tr>\n",
       "    <tr>\n",
       "      <th>1</th>\n",
       "      <td>informatica_acessorios</td>\n",
       "      <td>computers_accessories</td>\n",
       "    </tr>\n",
       "    <tr>\n",
       "      <th>2</th>\n",
       "      <td>automotivo</td>\n",
       "      <td>auto</td>\n",
       "    </tr>\n",
       "    <tr>\n",
       "      <th>3</th>\n",
       "      <td>cama_mesa_banho</td>\n",
       "      <td>bed_bath_table</td>\n",
       "    </tr>\n",
       "    <tr>\n",
       "      <th>4</th>\n",
       "      <td>moveis_decoracao</td>\n",
       "      <td>furniture_decor</td>\n",
       "    </tr>\n",
       "  </tbody>\n",
       "</table>\n",
       "</div>"
      ],
      "text/plain": [
       "    product_category_name product_category_name_english\n",
       "0            beleza_saude                 health_beauty\n",
       "1  informatica_acessorios         computers_accessories\n",
       "2              automotivo                          auto\n",
       "3         cama_mesa_banho                bed_bath_table\n",
       "4        moveis_decoracao               furniture_decor"
      ]
     },
     "execution_count": 115,
     "metadata": {},
     "output_type": "execute_result"
    }
   ],
   "source": [
    "category_translation = pd.read_csv(\"category_name_translation.csv\")\n",
    "category_translation.info()\n",
    "category_translation.head()"
   ]
  },
  {
   "cell_type": "code",
   "execution_count": 119,
   "id": "c84ecae5",
   "metadata": {},
   "outputs": [
    {
     "name": "stdout",
     "output_type": "stream",
     "text": [
      "<class 'pandas.core.frame.DataFrame'>\n",
      "RangeIndex: 71 entries, 0 to 70\n",
      "Data columns (total 2 columns):\n",
      " #   Column                         Non-Null Count  Dtype \n",
      "---  ------                         --------------  ----- \n",
      " 0   product_category_name          71 non-null     object\n",
      " 1   product_category_name_english  71 non-null     object\n",
      "dtypes: object(2)\n",
      "memory usage: 1.2+ KB\n"
     ]
    }
   ],
   "source": [
    "category_translation.info()"
   ]
  },
  {
   "cell_type": "code",
   "execution_count": 123,
   "id": "8b150530",
   "metadata": {},
   "outputs": [
    {
     "name": "stdout",
     "output_type": "stream",
     "text": [
      "<class 'pandas.core.frame.DataFrame'>\n",
      "RangeIndex: 71 entries, 0 to 70\n",
      "Data columns (total 2 columns):\n",
      " #   Column                         Non-Null Count  Dtype \n",
      "---  ------                         --------------  ----- \n",
      " 0   product_category_name          71 non-null     object\n",
      " 1   product_category_name_english  71 non-null     object\n",
      "dtypes: object(2)\n",
      "memory usage: 1.2+ KB\n"
     ]
    },
    {
     "data": {
      "text/html": [
       "<div>\n",
       "<style scoped>\n",
       "    .dataframe tbody tr th:only-of-type {\n",
       "        vertical-align: middle;\n",
       "    }\n",
       "\n",
       "    .dataframe tbody tr th {\n",
       "        vertical-align: top;\n",
       "    }\n",
       "\n",
       "    .dataframe thead th {\n",
       "        text-align: right;\n",
       "    }\n",
       "</style>\n",
       "<table border=\"1\" class=\"dataframe\">\n",
       "  <thead>\n",
       "    <tr style=\"text-align: right;\">\n",
       "      <th></th>\n",
       "      <th>product_category_name</th>\n",
       "      <th>product_category_name_english</th>\n",
       "    </tr>\n",
       "  </thead>\n",
       "  <tbody>\n",
       "    <tr>\n",
       "      <th>0</th>\n",
       "      <td>beleza_saude</td>\n",
       "      <td>health_beauty</td>\n",
       "    </tr>\n",
       "    <tr>\n",
       "      <th>1</th>\n",
       "      <td>informatica_acessorios</td>\n",
       "      <td>computers_accessories</td>\n",
       "    </tr>\n",
       "    <tr>\n",
       "      <th>2</th>\n",
       "      <td>automotivo</td>\n",
       "      <td>auto</td>\n",
       "    </tr>\n",
       "    <tr>\n",
       "      <th>3</th>\n",
       "      <td>cama_mesa_banho</td>\n",
       "      <td>bed_bath_table</td>\n",
       "    </tr>\n",
       "    <tr>\n",
       "      <th>4</th>\n",
       "      <td>moveis_decoracao</td>\n",
       "      <td>furniture_decor</td>\n",
       "    </tr>\n",
       "  </tbody>\n",
       "</table>\n",
       "</div>"
      ],
      "text/plain": [
       "    product_category_name product_category_name_english\n",
       "0            beleza_saude                 health_beauty\n",
       "1  informatica_acessorios         computers_accessories\n",
       "2              automotivo                          auto\n",
       "3         cama_mesa_banho                bed_bath_table\n",
       "4        moveis_decoracao               furniture_decor"
      ]
     },
     "execution_count": 123,
     "metadata": {},
     "output_type": "execute_result"
    }
   ],
   "source": [
    "category_translation.info()\n",
    "category_translation.head()"
   ]
  },
  {
   "cell_type": "code",
   "execution_count": 124,
   "id": "72f26d32",
   "metadata": {},
   "outputs": [
    {
     "data": {
      "text/plain": [
       "product_category_name            0\n",
       "product_category_name_english    0\n",
       "dtype: int64"
      ]
     },
     "execution_count": 124,
     "metadata": {},
     "output_type": "execute_result"
    }
   ],
   "source": [
    "# Check for missing values\n",
    "category_translation.isna().sum()"
   ]
  },
  {
   "cell_type": "code",
   "execution_count": 125,
   "id": "6905bc48",
   "metadata": {},
   "outputs": [
    {
     "data": {
      "text/plain": [
       "0"
      ]
     },
     "execution_count": 125,
     "metadata": {},
     "output_type": "execute_result"
    }
   ],
   "source": [
    "# Check for duplicate rows\n",
    "category_translation.duplicated().sum()"
   ]
  },
  {
   "cell_type": "code",
   "execution_count": 126,
   "id": "4f861b67",
   "metadata": {},
   "outputs": [
    {
     "data": {
      "text/plain": [
       "0"
      ]
     },
     "execution_count": 126,
     "metadata": {},
     "output_type": "execute_result"
    }
   ],
   "source": [
    "# Check for duplicate values in each column\n",
    "category_translation['product_category_name'].duplicated().sum()\n",
    "category_translation['product_category_name_english'].duplicated().sum()"
   ]
  },
  {
   "cell_type": "code",
   "execution_count": 128,
   "id": "51b72842",
   "metadata": {},
   "outputs": [],
   "source": [
    "category_translation.to_csv('category_name_translation_1.csv', index=False)"
   ]
  },
  {
   "cell_type": "markdown",
   "id": "8fb065b0",
   "metadata": {},
   "source": [
    "###  Cleaning the category_translation Dataset (8)\n",
    "\n",
    "I cleaned the category_translation dataset, which maps Portuguese product category names to their English equivalents. This dataset is useful for making product data more interpretable for non-Portuguese speakers.\n",
    "\n",
    "#### Steps in the cleaning process:\n",
    "Loaded the dataset with 71 rows and 2 columns\n",
    "Verified there were no missing values\n",
    "Checked for duplicate rows and duplicate category names — none were found\n",
    "Renamed and saved the cleaned dataset as category_name_translation_1.csv"
   ]
  },
  {
   "cell_type": "markdown",
   "id": "72255904",
   "metadata": {},
   "source": [
    "# Cleaning Project End Summary\n",
    "\n",
    "I have completed the data cleaning process for the Olist e-commerce dataset, which included 9 different datasets:\n",
    "\n",
    "orders\n",
    "order_items\n",
    "order_payments\n",
    "order_reviews\n",
    "customers\n",
    "geolocation\n",
    "products\n",
    "sellers\n",
    "category_translation\n",
    "Each dataset was inspected, cleaned for missing or duplicate values, and exported with a _1 suffix in the filename to indicate the cleaned version (e.g., geolocation_1.csv)."
   ]
  }
 ],
 "metadata": {
  "kernelspec": {
   "display_name": "Python 3 (ipykernel)",
   "language": "python",
   "name": "python3"
  },
  "language_info": {
   "codemirror_mode": {
    "name": "ipython",
    "version": 3
   },
   "file_extension": ".py",
   "mimetype": "text/x-python",
   "name": "python",
   "nbconvert_exporter": "python",
   "pygments_lexer": "ipython3",
   "version": "3.9.12"
  }
 },
 "nbformat": 4,
 "nbformat_minor": 5
}
